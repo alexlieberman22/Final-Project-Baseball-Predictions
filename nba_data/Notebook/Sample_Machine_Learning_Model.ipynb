{
 "cells": [
  {
   "cell_type": "markdown",
   "id": "c66fe038",
   "metadata": {},
   "source": [
    "## Provisional Code with functions for EDA and a Logistic Regression Model Just in case."
   ]
  },
  {
   "cell_type": "code",
   "execution_count": 1,
   "id": "9d261b8f",
   "metadata": {},
   "outputs": [],
   "source": [
    "import warnings\n",
    "warnings.filterwarnings(\"ignore\")\n",
    "# Libraries to read and manipulate data\n",
    "import pandas as pd\n",
    "import numpy as np\n",
    "\n",
    "# libraries to help with data visualization\n",
    "import matplotlib.pyplot as plt\n",
    "import seaborn as sns\n",
    "\n",
    "# Libraries to tune model, get different metric scores, and split data\n",
    "from sklearn import metrics\n",
    "from sklearn.model_selection import train_test_split, StratifiedKFold, cross_val_score\n",
    "from sklearn.preprocessing import StandardScaler\n",
    "from sklearn.model_selection import GridSearchCV, RandomizedSearchCV\n",
    "from sklearn.metrics import accuracy_score, classification_report\n",
    "from sklearn.impute import KNNImputer\n",
    "from sklearn.pipeline import Pipeline, make_pipeline\n",
    "\n",
    "#libraries to help with model building\n",
    "from sklearn.linear_model import LogisticRegression\n",
    "from sklearn.tree import DecisionTreeClassifier\n",
    "from sklearn.ensemble import (\n",
    "    AdaBoostClassifier,\n",
    "    GradientBoostingClassifier,\n",
    "    RandomForestClassifier,\n",
    "    BaggingClassifier)\n",
    "# from xgboost import XGBClassifier\n",
    "\n",
    "# To suppress scientific notations\n",
    "pd.set_option('display.float_format', lambda x: '%.3f' % x)"
   ]
  },
  {
   "cell_type": "code",
   "execution_count": 2,
   "id": "3f601870",
   "metadata": {},
   "outputs": [],
   "source": [
    "data = pd.read_csv('../Resources/new_games.csv')\n",
    "# copying data to preserve original\n",
    "games_data = data.copy()"
   ]
  },
  {
   "cell_type": "code",
   "execution_count": 3,
   "id": "2d09c8e4",
   "metadata": {},
   "outputs": [
    {
     "data": {
      "text/html": [
       "<div>\n",
       "<style scoped>\n",
       "    .dataframe tbody tr th:only-of-type {\n",
       "        vertical-align: middle;\n",
       "    }\n",
       "\n",
       "    .dataframe tbody tr th {\n",
       "        vertical-align: top;\n",
       "    }\n",
       "\n",
       "    .dataframe thead th {\n",
       "        text-align: right;\n",
       "    }\n",
       "</style>\n",
       "<table border=\"1\" class=\"dataframe\">\n",
       "  <thead>\n",
       "    <tr style=\"text-align: right;\">\n",
       "      <th></th>\n",
       "      <th>Unnamed: 0</th>\n",
       "      <th>GAME_DATE_EST</th>\n",
       "      <th>HOME_TEAM_ID</th>\n",
       "      <th>VISITOR_TEAM_ID</th>\n",
       "      <th>PTS_home</th>\n",
       "      <th>FG_PCT_home</th>\n",
       "      <th>FT_PCT_home</th>\n",
       "      <th>FG3_PCT_home</th>\n",
       "      <th>AST_home</th>\n",
       "      <th>REB_home</th>\n",
       "      <th>PTS_away</th>\n",
       "      <th>FG_PCT_away</th>\n",
       "      <th>FT_PCT_away</th>\n",
       "      <th>FG3_PCT_away</th>\n",
       "      <th>AST_away</th>\n",
       "      <th>REB_away</th>\n",
       "      <th>HOME_TEAM_WINS</th>\n",
       "    </tr>\n",
       "  </thead>\n",
       "  <tbody>\n",
       "    <tr>\n",
       "      <th>0</th>\n",
       "      <td>0</td>\n",
       "      <td>2022-03-12</td>\n",
       "      <td>1610612748</td>\n",
       "      <td>1610612750</td>\n",
       "      <td>104.000</td>\n",
       "      <td>0.398</td>\n",
       "      <td>0.760</td>\n",
       "      <td>0.333</td>\n",
       "      <td>23.000</td>\n",
       "      <td>53.000</td>\n",
       "      <td>113.000</td>\n",
       "      <td>0.422</td>\n",
       "      <td>0.875</td>\n",
       "      <td>0.357</td>\n",
       "      <td>21.000</td>\n",
       "      <td>46.000</td>\n",
       "      <td>0</td>\n",
       "    </tr>\n",
       "    <tr>\n",
       "      <th>1</th>\n",
       "      <td>1</td>\n",
       "      <td>2022-03-12</td>\n",
       "      <td>1610612741</td>\n",
       "      <td>1610612739</td>\n",
       "      <td>101.000</td>\n",
       "      <td>0.443</td>\n",
       "      <td>0.933</td>\n",
       "      <td>0.429</td>\n",
       "      <td>20.000</td>\n",
       "      <td>46.000</td>\n",
       "      <td>91.000</td>\n",
       "      <td>0.419</td>\n",
       "      <td>0.824</td>\n",
       "      <td>0.208</td>\n",
       "      <td>19.000</td>\n",
       "      <td>40.000</td>\n",
       "      <td>1</td>\n",
       "    </tr>\n",
       "    <tr>\n",
       "      <th>2</th>\n",
       "      <td>2</td>\n",
       "      <td>2022-03-12</td>\n",
       "      <td>1610612759</td>\n",
       "      <td>1610612754</td>\n",
       "      <td>108.000</td>\n",
       "      <td>0.412</td>\n",
       "      <td>0.813</td>\n",
       "      <td>0.324</td>\n",
       "      <td>28.000</td>\n",
       "      <td>52.000</td>\n",
       "      <td>119.000</td>\n",
       "      <td>0.489</td>\n",
       "      <td>1.000</td>\n",
       "      <td>0.389</td>\n",
       "      <td>23.000</td>\n",
       "      <td>47.000</td>\n",
       "      <td>0</td>\n",
       "    </tr>\n",
       "    <tr>\n",
       "      <th>3</th>\n",
       "      <td>3</td>\n",
       "      <td>2022-03-12</td>\n",
       "      <td>1610612744</td>\n",
       "      <td>1610612749</td>\n",
       "      <td>122.000</td>\n",
       "      <td>0.484</td>\n",
       "      <td>0.933</td>\n",
       "      <td>0.400</td>\n",
       "      <td>33.000</td>\n",
       "      <td>55.000</td>\n",
       "      <td>109.000</td>\n",
       "      <td>0.413</td>\n",
       "      <td>0.696</td>\n",
       "      <td>0.386</td>\n",
       "      <td>27.000</td>\n",
       "      <td>39.000</td>\n",
       "      <td>1</td>\n",
       "    </tr>\n",
       "    <tr>\n",
       "      <th>4</th>\n",
       "      <td>4</td>\n",
       "      <td>2022-03-12</td>\n",
       "      <td>1610612743</td>\n",
       "      <td>1610612761</td>\n",
       "      <td>115.000</td>\n",
       "      <td>0.551</td>\n",
       "      <td>0.750</td>\n",
       "      <td>0.407</td>\n",
       "      <td>32.000</td>\n",
       "      <td>39.000</td>\n",
       "      <td>127.000</td>\n",
       "      <td>0.471</td>\n",
       "      <td>0.760</td>\n",
       "      <td>0.387</td>\n",
       "      <td>28.000</td>\n",
       "      <td>50.000</td>\n",
       "      <td>0</td>\n",
       "    </tr>\n",
       "  </tbody>\n",
       "</table>\n",
       "</div>"
      ],
      "text/plain": [
       "   Unnamed: 0 GAME_DATE_EST  HOME_TEAM_ID  VISITOR_TEAM_ID  PTS_home  \\\n",
       "0           0    2022-03-12    1610612748       1610612750   104.000   \n",
       "1           1    2022-03-12    1610612741       1610612739   101.000   \n",
       "2           2    2022-03-12    1610612759       1610612754   108.000   \n",
       "3           3    2022-03-12    1610612744       1610612749   122.000   \n",
       "4           4    2022-03-12    1610612743       1610612761   115.000   \n",
       "\n",
       "   FG_PCT_home  FT_PCT_home  FG3_PCT_home  AST_home  REB_home  PTS_away  \\\n",
       "0        0.398        0.760         0.333    23.000    53.000   113.000   \n",
       "1        0.443        0.933         0.429    20.000    46.000    91.000   \n",
       "2        0.412        0.813         0.324    28.000    52.000   119.000   \n",
       "3        0.484        0.933         0.400    33.000    55.000   109.000   \n",
       "4        0.551        0.750         0.407    32.000    39.000   127.000   \n",
       "\n",
       "   FG_PCT_away  FT_PCT_away  FG3_PCT_away  AST_away  REB_away  HOME_TEAM_WINS  \n",
       "0        0.422        0.875         0.357    21.000    46.000               0  \n",
       "1        0.419        0.824         0.208    19.000    40.000               1  \n",
       "2        0.489        1.000         0.389    23.000    47.000               0  \n",
       "3        0.413        0.696         0.386    27.000    39.000               1  \n",
       "4        0.471        0.760         0.387    28.000    50.000               0  "
      ]
     },
     "execution_count": 3,
     "metadata": {},
     "output_type": "execute_result"
    }
   ],
   "source": [
    "games_data.head()"
   ]
  },
  {
   "cell_type": "code",
   "execution_count": 4,
   "id": "4a67a010",
   "metadata": {},
   "outputs": [
    {
     "data": {
      "text/plain": [
       "Unnamed: 0          0\n",
       "GAME_DATE_EST       0\n",
       "HOME_TEAM_ID        0\n",
       "VISITOR_TEAM_ID     0\n",
       "PTS_home           99\n",
       "FG_PCT_home        99\n",
       "FT_PCT_home        99\n",
       "FG3_PCT_home       99\n",
       "AST_home           99\n",
       "REB_home           99\n",
       "PTS_away           99\n",
       "FG_PCT_away        99\n",
       "FT_PCT_away        99\n",
       "FG3_PCT_away       99\n",
       "AST_away           99\n",
       "REB_away           99\n",
       "HOME_TEAM_WINS      0\n",
       "dtype: int64"
      ]
     },
     "execution_count": 4,
     "metadata": {},
     "output_type": "execute_result"
    }
   ],
   "source": [
    "#check for nulls\n",
    "games_data.isna().sum()"
   ]
  },
  {
   "cell_type": "code",
   "execution_count": 5,
   "id": "04123050",
   "metadata": {},
   "outputs": [],
   "source": [
    "games_data = games_data.dropna()"
   ]
  },
  {
   "cell_type": "code",
   "execution_count": 19,
   "id": "240f5b81",
   "metadata": {},
   "outputs": [
    {
     "data": {
      "text/plain": [
       "Unnamed: 0         0\n",
       "GAME_DATE_EST      0\n",
       "HOME_TEAM_ID       0\n",
       "VISITOR_TEAM_ID    0\n",
       "PTS_home           0\n",
       "FG_PCT_home        0\n",
       "FT_PCT_home        0\n",
       "FG3_PCT_home       0\n",
       "AST_home           0\n",
       "REB_home           0\n",
       "PTS_away           0\n",
       "FG_PCT_away        0\n",
       "FT_PCT_away        0\n",
       "FG3_PCT_away       0\n",
       "AST_away           0\n",
       "REB_away           0\n",
       "HOME_TEAM_WINS     0\n",
       "dtype: int64"
      ]
     },
     "execution_count": 19,
     "metadata": {},
     "output_type": "execute_result"
    }
   ],
   "source": [
    "games_data.isna().sum()"
   ]
  },
  {
   "cell_type": "code",
   "execution_count": 20,
   "id": "818f1e2a",
   "metadata": {},
   "outputs": [],
   "source": [
    "X = games_data.drop(['HOME_TEAM_WINS', 'GAME_DATE_EST', 'Unnamed: 0', 'PTS_home', 'PTS_away'],axis=1)\n",
    "y = games_data['HOME_TEAM_WINS']"
   ]
  },
  {
   "cell_type": "code",
   "execution_count": 21,
   "id": "1d5ac733",
   "metadata": {},
   "outputs": [
    {
     "name": "stdout",
     "output_type": "stream",
     "text": [
      "(19272, 12) (6425, 12)\n"
     ]
    }
   ],
   "source": [
    "# Splitting data into training and test set:\n",
    "X_train, X_test, y_train, y_test = train_test_split(X, y, random_state=15, stratify=y)\n",
    "print(X_train.shape, X_test.shape)"
   ]
  },
  {
   "cell_type": "code",
   "execution_count": 22,
   "id": "dbd8158d",
   "metadata": {},
   "outputs": [],
   "source": [
    "# Use Scaler\n",
    "scaler = StandardScaler()\n",
    "X_scaler = scaler.fit(X_train)"
   ]
  },
  {
   "cell_type": "code",
   "execution_count": 23,
   "id": "87e07b08",
   "metadata": {},
   "outputs": [],
   "source": [
    "# Scaling data\n",
    "X_train_scaled = X_scaler.transform(X_train)\n",
    "X_test_scaled = X_scaler.transform(X_test)"
   ]
  },
  {
   "cell_type": "code",
   "execution_count": 24,
   "id": "ad3cddfe",
   "metadata": {},
   "outputs": [
    {
     "data": {
      "text/plain": [
       "RandomForestClassifier(n_estimators=300)"
      ]
     },
     "execution_count": 24,
     "metadata": {},
     "output_type": "execute_result"
    }
   ],
   "source": [
    "# Using Random Forest Classifier\n",
    "rfc = RandomForestClassifier(n_estimators=300)\n",
    "rfc.fit(X_train_scaled, y_train)"
   ]
  },
  {
   "cell_type": "code",
   "execution_count": 25,
   "id": "ccf47532",
   "metadata": {},
   "outputs": [],
   "source": [
    "y_predict = rfc.predict(X_test_scaled)"
   ]
  },
  {
   "cell_type": "code",
   "execution_count": 26,
   "id": "4671e93d",
   "metadata": {},
   "outputs": [],
   "source": [
    "# Fancy confusion matrix\n",
    "def make_confusion_matrix(model,y_actual,labels=[1, 0]):\n",
    "\n",
    "    cm=metrics.confusion_matrix( y_actual, y_predict, labels=[0, 1])\n",
    "    df_cm = pd.DataFrame(cm, index = [i for i in [\"Actual - No\",\"Actual - Yes\"]],\n",
    "                  columns = [i for i in ['Predicted - No','Predicted - Yes']])\n",
    "    \n",
    "    group_counts = [\"{0:0.0f}\".format(value) for value in\n",
    "                cm.flatten()]\n",
    "    group_percentages = [\"{0:.2%}\".format(value) for value in\n",
    "                         cm.flatten()/np.sum(cm)]\n",
    "    \n",
    "    labels = [f\"{v1}\\n{v2}\" for v1, v2 in\n",
    "              zip(group_counts,group_percentages)]\n",
    "    labels = np.asarray(labels).reshape(2,2)\n",
    "    \n",
    "    plt.figure(figsize = (10,7))\n",
    "    sns.heatmap(df_cm, annot=labels,fmt='')\n",
    "    plt.ylabel('True label')\n",
    "    plt.xlabel('Predicted label')"
   ]
  },
  {
   "cell_type": "code",
   "execution_count": 27,
   "id": "11f3af4d",
   "metadata": {},
   "outputs": [
    {
     "data": {
      "image/png": "[encoded data removed]",
      "text/plain": [
       "<Figure size 720x504 with 2 Axes>"
      ]
     },
     "metadata": {
      "needs_background": "light"
     },
     "output_type": "display_data"
    }
   ],
   "source": [
    "make_confusion_matrix(rfc, y_test)"
   ]
  },
  {
   "cell_type": "code",
   "execution_count": 28,
   "id": "57b4d9f2",
   "metadata": {},
   "outputs": [
    {
     "name": "stdout",
     "output_type": "stream",
     "text": [
      "Accuracy Score : 0.8347081712062256\n",
      "Classification Report:\n",
      "              precision    recall  f1-score   support\n",
      "\n",
      "           0       0.81      0.78      0.79      2636\n",
      "           1       0.85      0.88      0.86      3789\n",
      "\n",
      "    accuracy                           0.83      6425\n",
      "   macro avg       0.83      0.83      0.83      6425\n",
      "weighted avg       0.83      0.83      0.83      6425\n",
      "\n"
     ]
    }
   ],
   "source": [
    "print(f\"Accuracy Score : {accuracy_score(y_test, y_predict)}\")\n",
    "print(\"Classification Report:\")\n",
    "print(classification_report(y_test, y_predict))"
   ]
  },
  {
   "cell_type": "code",
   "execution_count": 33,
   "id": "5f73e730",
   "metadata": {},
   "outputs": [
    {
     "data": {
      "text/html": [
       "<div>\n",
       "<style scoped>\n",
       "    .dataframe tbody tr th:only-of-type {\n",
       "        vertical-align: middle;\n",
       "    }\n",
       "\n",
       "    .dataframe tbody tr th {\n",
       "        vertical-align: top;\n",
       "    }\n",
       "\n",
       "    .dataframe thead th {\n",
       "        text-align: right;\n",
       "    }\n",
       "</style>\n",
       "<table border=\"1\" class=\"dataframe\">\n",
       "  <thead>\n",
       "    <tr style=\"text-align: right;\">\n",
       "      <th></th>\n",
       "      <th>Prediction</th>\n",
       "      <th>Actual</th>\n",
       "    </tr>\n",
       "  </thead>\n",
       "  <tbody>\n",
       "    <tr>\n",
       "      <th>8691</th>\n",
       "      <td>1</td>\n",
       "      <td>1</td>\n",
       "    </tr>\n",
       "    <tr>\n",
       "      <th>6837</th>\n",
       "      <td>1</td>\n",
       "      <td>1</td>\n",
       "    </tr>\n",
       "    <tr>\n",
       "      <th>7577</th>\n",
       "      <td>0</td>\n",
       "      <td>0</td>\n",
       "    </tr>\n",
       "    <tr>\n",
       "      <th>18834</th>\n",
       "      <td>1</td>\n",
       "      <td>1</td>\n",
       "    </tr>\n",
       "    <tr>\n",
       "      <th>47</th>\n",
       "      <td>1</td>\n",
       "      <td>1</td>\n",
       "    </tr>\n",
       "    <tr>\n",
       "      <th>1358</th>\n",
       "      <td>1</td>\n",
       "      <td>1</td>\n",
       "    </tr>\n",
       "    <tr>\n",
       "      <th>8076</th>\n",
       "      <td>0</td>\n",
       "      <td>0</td>\n",
       "    </tr>\n",
       "    <tr>\n",
       "      <th>3099</th>\n",
       "      <td>1</td>\n",
       "      <td>1</td>\n",
       "    </tr>\n",
       "    <tr>\n",
       "      <th>23757</th>\n",
       "      <td>0</td>\n",
       "      <td>0</td>\n",
       "    </tr>\n",
       "    <tr>\n",
       "      <th>18584</th>\n",
       "      <td>0</td>\n",
       "      <td>0</td>\n",
       "    </tr>\n",
       "    <tr>\n",
       "      <th>16739</th>\n",
       "      <td>1</td>\n",
       "      <td>0</td>\n",
       "    </tr>\n",
       "    <tr>\n",
       "      <th>3312</th>\n",
       "      <td>1</td>\n",
       "      <td>0</td>\n",
       "    </tr>\n",
       "    <tr>\n",
       "      <th>13472</th>\n",
       "      <td>1</td>\n",
       "      <td>1</td>\n",
       "    </tr>\n",
       "    <tr>\n",
       "      <th>18692</th>\n",
       "      <td>1</td>\n",
       "      <td>1</td>\n",
       "    </tr>\n",
       "    <tr>\n",
       "      <th>20125</th>\n",
       "      <td>0</td>\n",
       "      <td>1</td>\n",
       "    </tr>\n",
       "    <tr>\n",
       "      <th>23487</th>\n",
       "      <td>1</td>\n",
       "      <td>1</td>\n",
       "    </tr>\n",
       "    <tr>\n",
       "      <th>863</th>\n",
       "      <td>1</td>\n",
       "      <td>1</td>\n",
       "    </tr>\n",
       "    <tr>\n",
       "      <th>7814</th>\n",
       "      <td>0</td>\n",
       "      <td>0</td>\n",
       "    </tr>\n",
       "    <tr>\n",
       "      <th>20830</th>\n",
       "      <td>1</td>\n",
       "      <td>1</td>\n",
       "    </tr>\n",
       "    <tr>\n",
       "      <th>2250</th>\n",
       "      <td>1</td>\n",
       "      <td>1</td>\n",
       "    </tr>\n",
       "    <tr>\n",
       "      <th>4575</th>\n",
       "      <td>1</td>\n",
       "      <td>1</td>\n",
       "    </tr>\n",
       "    <tr>\n",
       "      <th>22491</th>\n",
       "      <td>0</td>\n",
       "      <td>0</td>\n",
       "    </tr>\n",
       "    <tr>\n",
       "      <th>2828</th>\n",
       "      <td>1</td>\n",
       "      <td>0</td>\n",
       "    </tr>\n",
       "    <tr>\n",
       "      <th>9826</th>\n",
       "      <td>1</td>\n",
       "      <td>1</td>\n",
       "    </tr>\n",
       "    <tr>\n",
       "      <th>16847</th>\n",
       "      <td>0</td>\n",
       "      <td>0</td>\n",
       "    </tr>\n",
       "  </tbody>\n",
       "</table>\n",
       "</div>"
      ],
      "text/plain": [
       "       Prediction  Actual\n",
       "8691            1       1\n",
       "6837            1       1\n",
       "7577            0       0\n",
       "18834           1       1\n",
       "47              1       1\n",
       "1358            1       1\n",
       "8076            0       0\n",
       "3099            1       1\n",
       "23757           0       0\n",
       "18584           0       0\n",
       "16739           1       0\n",
       "3312            1       0\n",
       "13472           1       1\n",
       "18692           1       1\n",
       "20125           0       1\n",
       "23487           1       1\n",
       "863             1       1\n",
       "7814            0       0\n",
       "20830           1       1\n",
       "2250            1       1\n",
       "4575            1       1\n",
       "22491           0       0\n",
       "2828            1       0\n",
       "9826            1       1\n",
       "16847           0       0"
      ]
     },
     "execution_count": 33,
     "metadata": {},
     "output_type": "execute_result"
    }
   ],
   "source": [
    "pd.DataFrame({\"Prediction\": y_predict, \"Actual\": y_test}).head(25)"
   ]
  },
  {
   "cell_type": "code",
   "execution_count": 31,
   "id": "f821b1b3",
   "metadata": {},
   "outputs": [
    {
     "data": {
      "text/plain": [
       "[(0.19140303770639003, 'FG_PCT_home'),\n",
       " (0.18917440748919528, 'FG_PCT_away'),\n",
       " (0.08665447399060704, 'FG3_PCT_home'),\n",
       " (0.08552362450681046, 'FG3_PCT_away'),\n",
       " (0.06893408360761927, 'REB_away'),\n",
       " (0.06746116306306782, 'REB_home'),\n",
       " (0.06265533901150584, 'AST_home'),\n",
       " (0.06008700977892858, 'AST_away'),\n",
       " (0.05606464837478889, 'FT_PCT_away'),\n",
       " (0.05535962610579285, 'FT_PCT_home'),\n",
       " (0.03886602077713581, 'HOME_TEAM_ID'),\n",
       " (0.03781656558815817, 'VISITOR_TEAM_ID')]"
      ]
     },
     "execution_count": 31,
     "metadata": {},
     "output_type": "execute_result"
    }
   ],
   "source": [
    "sorted(zip(rfc.feature_importances_, X.columns), reverse=True)"
   ]
  },
  {
   "cell_type": "code",
   "execution_count": null,
   "id": "ba3e1f24",
   "metadata": {},
   "outputs": [],
   "source": []
  }
 ],
 "metadata": {
  "kernelspec": {
   "display_name": "mlenv",
   "language": "python",
   "name": "mlenv"
  },
  "language_info": {
   "codemirror_mode": {
    "name": "ipython",
    "version": 3
   },
   "file_extension": ".py",
   "mimetype": "text/x-python",
   "name": "python",
   "nbconvert_exporter": "python",
   "pygments_lexer": "ipython3",
   "version": "3.7.11"
  }
 },
 "nbformat": 4,
 "nbformat_minor": 5
}
