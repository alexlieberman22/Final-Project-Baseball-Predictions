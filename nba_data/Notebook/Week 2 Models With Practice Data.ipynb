{
 "cells": [
  {
   "cell_type": "code",
   "execution_count": 1,
   "id": "376ece61",
   "metadata": {},
   "outputs": [],
   "source": [
    "import warnings\n",
    "warnings.filterwarnings(\"ignore\")\n",
    "# Libraries to read and manipulate data\n",
    "import pandas as pd\n",
    "import numpy as np\n",
    "\n",
    "# libraries to help with data visualization\n",
    "import matplotlib.pyplot as plt\n",
    "import seaborn as sns\n",
    "\n",
    "# Libraries to tune model, get different metric scores, and split data\n",
    "from sklearn import metrics\n",
    "from sklearn.model_selection import train_test_split, StratifiedKFold, cross_val_score\n",
    "from sklearn.preprocessing import StandardScaler\n",
    "from sklearn.model_selection import GridSearchCV, RandomizedSearchCV\n",
    "from sklearn.metrics import accuracy_score, classification_report\n",
    "from sklearn.impute import KNNImputer\n",
    "from sklearn.pipeline import Pipeline, make_pipeline\n",
    "\n",
    "#libraries to help with model building\n",
    "from sklearn.linear_model import LogisticRegression\n",
    "from sklearn.tree import DecisionTreeClassifier\n",
    "from sklearn.ensemble import (\n",
    "    AdaBoostClassifier,\n",
    "    GradientBoostingClassifier,\n",
    "    RandomForestClassifier,\n",
    "    BaggingClassifier)\n",
    "from xgboost import XGBClassifier\n",
    "\n",
    "# To suppress scientific notations\n",
    "pd.set_option('display.float_format', lambda x: '%.3f' % x)"
   ]
  },
  {
   "cell_type": "code",
   "execution_count": 2,
   "id": "f8ec3c90",
   "metadata": {},
   "outputs": [],
   "source": [
    "data = pd.read_csv('../Resources/new_games.csv')\n",
    "# copying data to preserve original\n",
    "games_data = data.copy()"
   ]
  },
  {
   "cell_type": "code",
   "execution_count": 3,
   "id": "1e5efe58",
   "metadata": {},
   "outputs": [
    {
     "data": {
      "text/html": [
       "<div>\n",
       "<style scoped>\n",
       "    .dataframe tbody tr th:only-of-type {\n",
       "        vertical-align: middle;\n",
       "    }\n",
       "\n",
       "    .dataframe tbody tr th {\n",
       "        vertical-align: top;\n",
       "    }\n",
       "\n",
       "    .dataframe thead th {\n",
       "        text-align: right;\n",
       "    }\n",
       "</style>\n",
       "<table border=\"1\" class=\"dataframe\">\n",
       "  <thead>\n",
       "    <tr style=\"text-align: right;\">\n",
       "      <th></th>\n",
       "      <th>Unnamed: 0</th>\n",
       "      <th>GAME_DATE_EST</th>\n",
       "      <th>HOME_TEAM_ID</th>\n",
       "      <th>VISITOR_TEAM_ID</th>\n",
       "      <th>PTS_home</th>\n",
       "      <th>FG_PCT_home</th>\n",
       "      <th>FT_PCT_home</th>\n",
       "      <th>FG3_PCT_home</th>\n",
       "      <th>AST_home</th>\n",
       "      <th>REB_home</th>\n",
       "      <th>PTS_away</th>\n",
       "      <th>FG_PCT_away</th>\n",
       "      <th>FT_PCT_away</th>\n",
       "      <th>FG3_PCT_away</th>\n",
       "      <th>AST_away</th>\n",
       "      <th>REB_away</th>\n",
       "      <th>HOME_TEAM_WINS</th>\n",
       "    </tr>\n",
       "  </thead>\n",
       "  <tbody>\n",
       "    <tr>\n",
       "      <th>0</th>\n",
       "      <td>0</td>\n",
       "      <td>2022-03-12</td>\n",
       "      <td>1610612748</td>\n",
       "      <td>1610612750</td>\n",
       "      <td>104.000</td>\n",
       "      <td>0.398</td>\n",
       "      <td>0.760</td>\n",
       "      <td>0.333</td>\n",
       "      <td>23.000</td>\n",
       "      <td>53.000</td>\n",
       "      <td>113.000</td>\n",
       "      <td>0.422</td>\n",
       "      <td>0.875</td>\n",
       "      <td>0.357</td>\n",
       "      <td>21.000</td>\n",
       "      <td>46.000</td>\n",
       "      <td>0</td>\n",
       "    </tr>\n",
       "    <tr>\n",
       "      <th>1</th>\n",
       "      <td>1</td>\n",
       "      <td>2022-03-12</td>\n",
       "      <td>1610612741</td>\n",
       "      <td>1610612739</td>\n",
       "      <td>101.000</td>\n",
       "      <td>0.443</td>\n",
       "      <td>0.933</td>\n",
       "      <td>0.429</td>\n",
       "      <td>20.000</td>\n",
       "      <td>46.000</td>\n",
       "      <td>91.000</td>\n",
       "      <td>0.419</td>\n",
       "      <td>0.824</td>\n",
       "      <td>0.208</td>\n",
       "      <td>19.000</td>\n",
       "      <td>40.000</td>\n",
       "      <td>1</td>\n",
       "    </tr>\n",
       "    <tr>\n",
       "      <th>2</th>\n",
       "      <td>2</td>\n",
       "      <td>2022-03-12</td>\n",
       "      <td>1610612759</td>\n",
       "      <td>1610612754</td>\n",
       "      <td>108.000</td>\n",
       "      <td>0.412</td>\n",
       "      <td>0.813</td>\n",
       "      <td>0.324</td>\n",
       "      <td>28.000</td>\n",
       "      <td>52.000</td>\n",
       "      <td>119.000</td>\n",
       "      <td>0.489</td>\n",
       "      <td>1.000</td>\n",
       "      <td>0.389</td>\n",
       "      <td>23.000</td>\n",
       "      <td>47.000</td>\n",
       "      <td>0</td>\n",
       "    </tr>\n",
       "    <tr>\n",
       "      <th>3</th>\n",
       "      <td>3</td>\n",
       "      <td>2022-03-12</td>\n",
       "      <td>1610612744</td>\n",
       "      <td>1610612749</td>\n",
       "      <td>122.000</td>\n",
       "      <td>0.484</td>\n",
       "      <td>0.933</td>\n",
       "      <td>0.400</td>\n",
       "      <td>33.000</td>\n",
       "      <td>55.000</td>\n",
       "      <td>109.000</td>\n",
       "      <td>0.413</td>\n",
       "      <td>0.696</td>\n",
       "      <td>0.386</td>\n",
       "      <td>27.000</td>\n",
       "      <td>39.000</td>\n",
       "      <td>1</td>\n",
       "    </tr>\n",
       "    <tr>\n",
       "      <th>4</th>\n",
       "      <td>4</td>\n",
       "      <td>2022-03-12</td>\n",
       "      <td>1610612743</td>\n",
       "      <td>1610612761</td>\n",
       "      <td>115.000</td>\n",
       "      <td>0.551</td>\n",
       "      <td>0.750</td>\n",
       "      <td>0.407</td>\n",
       "      <td>32.000</td>\n",
       "      <td>39.000</td>\n",
       "      <td>127.000</td>\n",
       "      <td>0.471</td>\n",
       "      <td>0.760</td>\n",
       "      <td>0.387</td>\n",
       "      <td>28.000</td>\n",
       "      <td>50.000</td>\n",
       "      <td>0</td>\n",
       "    </tr>\n",
       "  </tbody>\n",
       "</table>\n",
       "</div>"
      ],
      "text/plain": [
       "   Unnamed: 0 GAME_DATE_EST  HOME_TEAM_ID  VISITOR_TEAM_ID  PTS_home  \\\n",
       "0           0    2022-03-12    1610612748       1610612750   104.000   \n",
       "1           1    2022-03-12    1610612741       1610612739   101.000   \n",
       "2           2    2022-03-12    1610612759       1610612754   108.000   \n",
       "3           3    2022-03-12    1610612744       1610612749   122.000   \n",
       "4           4    2022-03-12    1610612743       1610612761   115.000   \n",
       "\n",
       "   FG_PCT_home  FT_PCT_home  FG3_PCT_home  AST_home  REB_home  PTS_away  \\\n",
       "0        0.398        0.760         0.333    23.000    53.000   113.000   \n",
       "1        0.443        0.933         0.429    20.000    46.000    91.000   \n",
       "2        0.412        0.813         0.324    28.000    52.000   119.000   \n",
       "3        0.484        0.933         0.400    33.000    55.000   109.000   \n",
       "4        0.551        0.750         0.407    32.000    39.000   127.000   \n",
       "\n",
       "   FG_PCT_away  FT_PCT_away  FG3_PCT_away  AST_away  REB_away  HOME_TEAM_WINS  \n",
       "0        0.422        0.875         0.357    21.000    46.000               0  \n",
       "1        0.419        0.824         0.208    19.000    40.000               1  \n",
       "2        0.489        1.000         0.389    23.000    47.000               0  \n",
       "3        0.413        0.696         0.386    27.000    39.000               1  \n",
       "4        0.471        0.760         0.387    28.000    50.000               0  "
      ]
     },
     "execution_count": 3,
     "metadata": {},
     "output_type": "execute_result"
    }
   ],
   "source": [
    "games_data.head()"
   ]
  },
  {
   "cell_type": "code",
   "execution_count": 4,
   "id": "0767cecb",
   "metadata": {},
   "outputs": [
    {
     "data": {
      "text/plain": [
       "Unnamed: 0          0\n",
       "GAME_DATE_EST       0\n",
       "HOME_TEAM_ID        0\n",
       "VISITOR_TEAM_ID     0\n",
       "PTS_home           99\n",
       "FG_PCT_home        99\n",
       "FT_PCT_home        99\n",
       "FG3_PCT_home       99\n",
       "AST_home           99\n",
       "REB_home           99\n",
       "PTS_away           99\n",
       "FG_PCT_away        99\n",
       "FT_PCT_away        99\n",
       "FG3_PCT_away       99\n",
       "AST_away           99\n",
       "REB_away           99\n",
       "HOME_TEAM_WINS      0\n",
       "dtype: int64"
      ]
     },
     "execution_count": 4,
     "metadata": {},
     "output_type": "execute_result"
    }
   ],
   "source": [
    "#check for nulls\n",
    "games_data.isna().sum()"
   ]
  },
  {
   "cell_type": "code",
   "execution_count": 5,
   "id": "b08a718d",
   "metadata": {},
   "outputs": [],
   "source": [
    "games_data = games_data.dropna()"
   ]
  },
  {
   "cell_type": "code",
   "execution_count": 6,
   "id": "b5680368",
   "metadata": {},
   "outputs": [
    {
     "data": {
      "text/plain": [
       "Unnamed: 0         0\n",
       "GAME_DATE_EST      0\n",
       "HOME_TEAM_ID       0\n",
       "VISITOR_TEAM_ID    0\n",
       "PTS_home           0\n",
       "FG_PCT_home        0\n",
       "FT_PCT_home        0\n",
       "FG3_PCT_home       0\n",
       "AST_home           0\n",
       "REB_home           0\n",
       "PTS_away           0\n",
       "FG_PCT_away        0\n",
       "FT_PCT_away        0\n",
       "FG3_PCT_away       0\n",
       "AST_away           0\n",
       "REB_away           0\n",
       "HOME_TEAM_WINS     0\n",
       "dtype: int64"
      ]
     },
     "execution_count": 6,
     "metadata": {},
     "output_type": "execute_result"
    }
   ],
   "source": [
    "games_data.isna().sum()"
   ]
  },
  {
   "cell_type": "code",
   "execution_count": 7,
   "id": "a10ebda7",
   "metadata": {},
   "outputs": [],
   "source": [
    "X = games_data.drop(['HOME_TEAM_WINS', 'GAME_DATE_EST', 'Unnamed: 0', 'PTS_home', 'PTS_away','HOME_TEAM_ID','VISITOR_TEAM_ID'],axis=1)\n",
    "y = games_data['HOME_TEAM_WINS']"
   ]
  },
  {
   "cell_type": "code",
   "execution_count": 8,
   "id": "4b134755",
   "metadata": {},
   "outputs": [
    {
     "name": "stdout",
     "output_type": "stream",
     "text": [
      "(19272, 10) (6425, 10)\n"
     ]
    }
   ],
   "source": [
    "# Splitting data into training and test set:\n",
    "X_train, X_test, y_train, y_test = train_test_split(X, y, random_state=15, stratify=y)\n",
    "print(X_train.shape, X_test.shape)"
   ]
  },
  {
   "cell_type": "code",
   "execution_count": 9,
   "id": "058c8426",
   "metadata": {},
   "outputs": [],
   "source": [
    "# Use Scaler\n",
    "scaler = StandardScaler()\n",
    "X_scaler = scaler.fit(X_train)"
   ]
  },
  {
   "cell_type": "code",
   "execution_count": 10,
   "id": "5508596a",
   "metadata": {},
   "outputs": [],
   "source": [
    "# Scaling data\n",
    "X_train_scaled = X_scaler.transform(X_train)\n",
    "X_test_scaled = X_scaler.transform(X_test)"
   ]
  },
  {
   "cell_type": "markdown",
   "id": "aaa30cf2",
   "metadata": {},
   "source": [
    "# The Important Part:\n",
    "Uncomment with (ctrl + /) for hyperparameter tuning.\n",
    "These are the predictive models for categories."
   ]
  },
  {
   "cell_type": "code",
   "execution_count": 11,
   "id": "09eb5ac7",
   "metadata": {},
   "outputs": [],
   "source": [
    "class decisiontree:\n",
    "    name = \"Decision Tree Classifier\"\n",
    "    model = DecisionTreeClassifier(random_state=1)\n",
    "class bagging:\n",
    "    name = \"Bagging Classifier\"\n",
    "    model = BaggingClassifier(random_state=1)\n",
    "class logitreg:\n",
    "    name = \"Logistic Regression Classifier\"\n",
    "    model = LogisticRegression(solver='lbfgs', random_state=1)\n",
    "class randiforestclass:\n",
    "    name = \"Random Forest Classifier\"\n",
    "    model = RandomForestClassifier(random_state=1)\n",
    "class adaboost:\n",
    "    name = \"AdaBoost Classifier\"\n",
    "    model = AdaBoostClassifier(random_state=1)\n",
    "class gradientboost:\n",
    "    name = \"Gradient Boosting Classifier\"\n",
    "    model = GradientBoostingClassifier(init=AdaBoostClassifier(random_state=1),random_state=1)\n",
    "class xgboost:\n",
    "    name = \"Extreme Gradient Boosting Classifier\"\n",
    "    model = XGBClassifier(random_state=1,eval_metric='logloss')\n",
    "class_list = [decisiontree, bagging, logitreg, randiforestclass, adaboost, gradientboost, xgboost]"
   ]
  },
  {
   "cell_type": "code",
   "execution_count": 12,
   "id": "afa06d03",
   "metadata": {},
   "outputs": [],
   "source": [
    "# Functions on Functions on Functions\n",
    "def buildmodel(model_class,xtrn,ytrn,xtst):\n",
    "    # Using the model classes and specifically the model variable this will fit the training and make the prediction using \n",
    "    # the x testing set\n",
    "    model_class.model.fit(xtrn,ytrn)\n",
    "    model_class.y_predict = model_class.model.predict(xtst)\n",
    "    print(\"Model build and fitted :)\")\n",
    "    \n",
    "def metricsomania(model_class,train,test,train_y,test_y,flag=True):\n",
    "    # Use the model class, the model variable of said class, and the y predictions\n",
    "    # defining an empty list to store train and test results\n",
    "    # Will also create a list of the scores and put the list into the class.\n",
    "    model = model_class.model\n",
    "    score_list=[] \n",
    "    # Including the Testing set to see how overfitting may be influencing the model.\n",
    "    pred_train = model.predict(train)\n",
    "    pred_test = model_class.y_predict\n",
    "    \n",
    "    train_acc = model.score(train,train_y)\n",
    "    test_acc = model.score(test,test_y)\n",
    "    \n",
    "    train_recall = metrics.recall_score(train_y,pred_train)\n",
    "    test_recall = metrics.recall_score(test_y,pred_test)\n",
    "    \n",
    "    train_precision = metrics.precision_score(train_y,pred_train)\n",
    "    test_precision = metrics.precision_score(test_y,pred_test)\n",
    "    \n",
    "    score_list.extend((train_acc,test_acc,train_recall,test_recall,train_precision,test_precision))\n",
    "    if len(score_list) == 0:\n",
    "        flag = False\n",
    "    # If the flag is set to True then only the following print statements will be dispayed. The default value is set to True.\n",
    "    # If the flag is not True, god help us\n",
    "    if flag == True: \n",
    "        print(\"Accuracy on training set : \",model.score(train,train_y))\n",
    "        print(\"Accuracy on test set : \",model.score(test,test_y))\n",
    "        print(\"Recall on training set : \",metrics.recall_score(train_y,pred_train))\n",
    "        print(\"Recall on test set : \",metrics.recall_score(test_y,pred_test))\n",
    "        print(\"Precision on training set : \",metrics.precision_score(train_y,pred_train))\n",
    "        print(\"Precision on test set : \",metrics.precision_score(test_y,pred_test))\n",
    "    \n",
    "    model_class.scores = score_list\n",
    "    return score_list # returning the list with train and test scores\n",
    "\n",
    "def make_confusion_matrix(model_class,y_actual,labels=[1, 0]):\n",
    "    # Make a confusion matrix with a seaborn heatmap and display it.\n",
    "    model = model_class.model\n",
    "    cm=metrics.confusion_matrix( y_actual, model_class.y_predict, labels=[0, 1])\n",
    "    df_cm = pd.DataFrame(cm, index = [i for i in [\"Actual - No\",\"Actual - Yes\"]],\n",
    "                  columns = [i for i in ['Predicted - No','Predicted - Yes']])\n",
    "    \n",
    "    group_counts = [\"{0:0.0f}\".format(value) for value in\n",
    "                cm.flatten()]\n",
    "    group_percentages = [\"{0:.2%}\".format(value) for value in\n",
    "                         cm.flatten()/np.sum(cm)]\n",
    "    \n",
    "    labels = [f\"{v1}\\n{v2}\" for v1, v2 in\n",
    "              zip(group_counts,group_percentages)]\n",
    "    labels = np.asarray(labels).reshape(2,2)\n",
    "    \n",
    "    plt.figure(figsize = (10,7))\n",
    "    sns.heatmap(df_cm, annot=labels,fmt='')\n",
    "    plt.ylabel('True label')\n",
    "    plt.xlabel('Predicted label')\n",
    "\n",
    "def Everything_Everywhere_All_At_Once(model_class,xtrn,ytrn,xtst,ytst):\n",
    "    # Run all of the other functions to reduce the code needed to do it all (yes I'm that lazy)\n",
    "    print(f\"Model creation, fitting, and assesment of the {model_class.name} model:\")\n",
    "    buildmodel(model_class,xtrn,ytrn,xtst)\n",
    "    print(\"-\"*50)\n",
    "    metricsomania(model_class,xtrn,xtst,ytrn,ytst)\n",
    "    make_confusion_matrix(model_class,ytst)\n",
    "    print(\"-\"*50)"
   ]
  },
  {
   "cell_type": "code",
   "execution_count": 13,
   "id": "320cb3eb",
   "metadata": {},
   "outputs": [
    {
     "name": "stdout",
     "output_type": "stream",
     "text": [
      "Model creation, fitting, and assesment of the Decision Tree Classifier model:\n",
      "Model build and fitted :)\n",
      "--------------------------------------------------\n",
      "Accuracy on training set :  1.0\n",
      "Accuracy on test set :  0.7632684824902723\n",
      "Recall on training set :  1.0\n",
      "Recall on test set :  0.8017946687780417\n",
      "Precision on training set :  1.0\n",
      "Precision on test set :  0.7977941176470589\n",
      "--------------------------------------------------\n"
     ]
    },
    {
     "data": {
      "image/png": "[encoded data removed]",
      "text/plain": [
       "<Figure size 720x504 with 2 Axes>"
      ]
     },
     "metadata": {
      "needs_background": "light"
     },
     "output_type": "display_data"
    }
   ],
   "source": [
    "Everything_Everywhere_All_At_Once(decisiontree,X_train_scaled,y_train,X_test_scaled,y_test)"
   ]
  },
  {
   "cell_type": "code",
   "execution_count": 14,
   "id": "6a3244d5",
   "metadata": {},
   "outputs": [
    {
     "name": "stdout",
     "output_type": "stream",
     "text": [
      "Model creation, fitting, and assesment of the Bagging Classifier model:\n",
      "Model build and fitted :)\n",
      "--------------------------------------------------\n",
      "Accuracy on training set :  0.9912826899128269\n",
      "Accuracy on test set :  0.8124513618677043\n",
      "Recall on training set :  0.9891782509238078\n",
      "Recall on test set :  0.8218527315914489\n",
      "Precision on training set :  0.9960134656272147\n",
      "Precision on test set :  0.8545554335894622\n",
      "--------------------------------------------------\n"
     ]
    },
    {
     "data": {
      "image/png": "[encoded data removed]",
      "text/plain": [
       "<Figure size 720x504 with 2 Axes>"
      ]
     },
     "metadata": {
      "needs_background": "light"
     },
     "output_type": "display_data"
    }
   ],
   "source": [
    "Everything_Everywhere_All_At_Once(bagging,X_train_scaled,y_train,X_test_scaled,y_test)"
   ]
  },
  {
   "cell_type": "code",
   "execution_count": 15,
   "id": "70fa57b7",
   "metadata": {},
   "outputs": [
    {
     "name": "stdout",
     "output_type": "stream",
     "text": [
      "Model creation, fitting, and assesment of the Logistic Regression Classifier model:\n",
      "Model build and fitted :)\n",
      "--------------------------------------------------\n",
      "Accuracy on training set :  0.843192195931922\n",
      "Accuracy on test set :  0.8375097276264591\n",
      "Recall on training set :  0.8768256202709837\n",
      "Recall on test set :  0.8717339667458432\n",
      "Precision on training set :  0.860027614773904\n",
      "Precision on test set :  0.8554778554778555\n",
      "--------------------------------------------------\n"
     ]
    },
    {
     "data": {
      "image/png": "[encoded data removed]",
      "text/plain": [
       "<Figure size 720x504 with 2 Axes>"
      ]
     },
     "metadata": {
      "needs_background": "light"
     },
     "output_type": "display_data"
    }
   ],
   "source": [
    "Everything_Everywhere_All_At_Once(logitreg,X_train_scaled,y_train,X_test_scaled,y_test)"
   ]
  },
  {
   "cell_type": "code",
   "execution_count": 16,
   "id": "62706afc",
   "metadata": {},
   "outputs": [
    {
     "name": "stdout",
     "output_type": "stream",
     "text": [
      "Model creation, fitting, and assesment of the Random Forest Classifier model:\n",
      "Model build and fitted :)\n",
      "--------------------------------------------------\n",
      "Accuracy on training set :  1.0\n",
      "Accuracy on test set :  0.831284046692607\n",
      "Recall on training set :  1.0\n",
      "Recall on test set :  0.867247294800739\n",
      "Precision on training set :  1.0\n",
      "Precision on test set :  0.8497543315231445\n",
      "--------------------------------------------------\n"
     ]
    },
    {
     "data": {
      "image/png": "[encoded data removed]",
      "text/plain": [
       "<Figure size 720x504 with 2 Axes>"
      ]
     },
     "metadata": {
      "needs_background": "light"
     },
     "output_type": "display_data"
    }
   ],
   "source": [
    "Everything_Everywhere_All_At_Once(randiforestclass,X_train_scaled,y_train,X_test_scaled,y_test)"
   ]
  },
  {
   "cell_type": "code",
   "execution_count": 17,
   "id": "23bbcc2b",
   "metadata": {},
   "outputs": [
    {
     "name": "stdout",
     "output_type": "stream",
     "text": [
      "Model creation, fitting, and assesment of the AdaBoost Classifier model:\n",
      "Model build and fitted :)\n",
      "--------------------------------------------------\n",
      "Accuracy on training set :  0.8401307596513076\n",
      "Accuracy on test set :  0.829260700389105\n",
      "Recall on training set :  0.8732183705789196\n",
      "Recall on test set :  0.8651359197677487\n",
      "Precision on training set :  0.8581928231733679\n",
      "Precision on test set :  0.848343685300207\n",
      "--------------------------------------------------\n"
     ]
    },
    {
     "data": {
      "image/png": "[encoded data removed]",
      "text/plain": [
       "<Figure size 720x504 with 2 Axes>"
      ]
     },
     "metadata": {
      "needs_background": "light"
     },
     "output_type": "display_data"
    }
   ],
   "source": [
    "Everything_Everywhere_All_At_Once(adaboost,X_train_scaled,y_train,X_test_scaled,y_test)"
   ]
  },
  {
   "cell_type": "code",
   "execution_count": 18,
   "id": "b310b5da",
   "metadata": {},
   "outputs": [
    {
     "name": "stdout",
     "output_type": "stream",
     "text": [
      "Model creation, fitting, and assesment of the Gradient Boosting Classifier model:\n",
      "Model build and fitted :)\n",
      "--------------------------------------------------\n",
      "Accuracy on training set :  0.8537256122872561\n",
      "Accuracy on test set :  0.8345525291828794\n",
      "Recall on training set :  0.888879113144466\n",
      "Recall on test set :  0.8764845605700713\n",
      "Precision on training set :  0.8665408697143837\n",
      "Precision on test set :  0.8480592441266599\n",
      "--------------------------------------------------\n"
     ]
    },
    {
     "data": {
      "image/png": "[encoded data removed]",
      "text/plain": [
       "<Figure size 720x504 with 2 Axes>"
      ]
     },
     "metadata": {
      "needs_background": "light"
     },
     "output_type": "display_data"
    }
   ],
   "source": [
    "Everything_Everywhere_All_At_Once(gradientboost,X_train_scaled,y_train,X_test_scaled,y_test)"
   ]
  },
  {
   "cell_type": "code",
   "execution_count": 19,
   "id": "d715d938",
   "metadata": {},
   "outputs": [
    {
     "name": "stdout",
     "output_type": "stream",
     "text": [
      "Model creation, fitting, and assesment of the Extreme Gradient Boosting Classifier model:\n",
      "Model build and fitted :)\n",
      "--------------------------------------------------\n",
      "Accuracy on training set :  0.9309879618098796\n",
      "Accuracy on test set :  0.8300389105058366\n",
      "Recall on training set :  0.9479148337145874\n",
      "Recall on test set :  0.8622327790973872\n",
      "Precision on training set :  0.9358929812369701\n",
      "Precision on test set :  0.8514464425332291\n",
      "--------------------------------------------------\n"
     ]
    },
    {
     "data": {
      "image/png": "[encoded data removed]",
      "text/plain": [
       "<Figure size 720x504 with 2 Axes>"
      ]
     },
     "metadata": {
      "needs_background": "light"
     },
     "output_type": "display_data"
    }
   ],
   "source": [
    "Everything_Everywhere_All_At_Once(xgboost,X_train_scaled,y_train,X_test_scaled,y_test)"
   ]
  },
  {
   "cell_type": "code",
   "execution_count": 20,
   "id": "ab590cc7",
   "metadata": {},
   "outputs": [],
   "source": [
    "model_names = []\n",
    "acc_train = []\n",
    "acc_test = []\n",
    "recall_train = []\n",
    "recall_test = []\n",
    "precision_train = []\n",
    "precision_test = []\n",
    "for model_class in class_list:\n",
    "    model_names.append(model_class.name)\n",
    "    acc_train.append(model_class.scores[0])\n",
    "    acc_test.append(model_class.scores[1])\n",
    "    recall_train.append(model_class.scores[2])\n",
    "    recall_test.append(model_class.scores[3])\n",
    "    precision_train.append(model_class.scores[4])\n",
    "    precision_test.append(model_class.scores[5])"
   ]
  },
  {
   "cell_type": "code",
   "execution_count": 21,
   "id": "396aad52",
   "metadata": {},
   "outputs": [
    {
     "data": {
      "text/html": [
       "<div>\n",
       "<style scoped>\n",
       "    .dataframe tbody tr th:only-of-type {\n",
       "        vertical-align: middle;\n",
       "    }\n",
       "\n",
       "    .dataframe tbody tr th {\n",
       "        vertical-align: top;\n",
       "    }\n",
       "\n",
       "    .dataframe thead th {\n",
       "        text-align: right;\n",
       "    }\n",
       "</style>\n",
       "<table border=\"1\" class=\"dataframe\">\n",
       "  <thead>\n",
       "    <tr style=\"text-align: right;\">\n",
       "      <th></th>\n",
       "      <th>Model</th>\n",
       "      <th>Train_Accuracy</th>\n",
       "      <th>Test_Accuracy</th>\n",
       "      <th>Train_Recall</th>\n",
       "      <th>Test_Recall</th>\n",
       "      <th>Train_Precision</th>\n",
       "      <th>Test_Precision</th>\n",
       "    </tr>\n",
       "  </thead>\n",
       "  <tbody>\n",
       "    <tr>\n",
       "      <th>0</th>\n",
       "      <td>Decision Tree Classifier</td>\n",
       "      <td>1.000</td>\n",
       "      <td>0.763</td>\n",
       "      <td>1.000</td>\n",
       "      <td>0.802</td>\n",
       "      <td>1.000</td>\n",
       "      <td>0.798</td>\n",
       "    </tr>\n",
       "    <tr>\n",
       "      <th>1</th>\n",
       "      <td>Bagging Classifier</td>\n",
       "      <td>0.991</td>\n",
       "      <td>0.812</td>\n",
       "      <td>0.989</td>\n",
       "      <td>0.822</td>\n",
       "      <td>0.996</td>\n",
       "      <td>0.855</td>\n",
       "    </tr>\n",
       "    <tr>\n",
       "      <th>2</th>\n",
       "      <td>Logistic Regression Classifier</td>\n",
       "      <td>0.843</td>\n",
       "      <td>0.838</td>\n",
       "      <td>0.877</td>\n",
       "      <td>0.872</td>\n",
       "      <td>0.860</td>\n",
       "      <td>0.855</td>\n",
       "    </tr>\n",
       "    <tr>\n",
       "      <th>3</th>\n",
       "      <td>Random Forest Classifier</td>\n",
       "      <td>1.000</td>\n",
       "      <td>0.831</td>\n",
       "      <td>1.000</td>\n",
       "      <td>0.867</td>\n",
       "      <td>1.000</td>\n",
       "      <td>0.850</td>\n",
       "    </tr>\n",
       "    <tr>\n",
       "      <th>4</th>\n",
       "      <td>AdaBoost Classifier</td>\n",
       "      <td>0.840</td>\n",
       "      <td>0.829</td>\n",
       "      <td>0.873</td>\n",
       "      <td>0.865</td>\n",
       "      <td>0.858</td>\n",
       "      <td>0.848</td>\n",
       "    </tr>\n",
       "    <tr>\n",
       "      <th>5</th>\n",
       "      <td>Gradient Boosting Classifier</td>\n",
       "      <td>0.854</td>\n",
       "      <td>0.835</td>\n",
       "      <td>0.889</td>\n",
       "      <td>0.876</td>\n",
       "      <td>0.867</td>\n",
       "      <td>0.848</td>\n",
       "    </tr>\n",
       "    <tr>\n",
       "      <th>6</th>\n",
       "      <td>Extreme Gradient Boosting Classifier</td>\n",
       "      <td>0.931</td>\n",
       "      <td>0.830</td>\n",
       "      <td>0.948</td>\n",
       "      <td>0.862</td>\n",
       "      <td>0.936</td>\n",
       "      <td>0.851</td>\n",
       "    </tr>\n",
       "  </tbody>\n",
       "</table>\n",
       "</div>"
      ],
      "text/plain": [
       "                                  Model  Train_Accuracy  Test_Accuracy  \\\n",
       "0              Decision Tree Classifier           1.000          0.763   \n",
       "1                    Bagging Classifier           0.991          0.812   \n",
       "2        Logistic Regression Classifier           0.843          0.838   \n",
       "3              Random Forest Classifier           1.000          0.831   \n",
       "4                   AdaBoost Classifier           0.840          0.829   \n",
       "5          Gradient Boosting Classifier           0.854          0.835   \n",
       "6  Extreme Gradient Boosting Classifier           0.931          0.830   \n",
       "\n",
       "   Train_Recall  Test_Recall  Train_Precision  Test_Precision  \n",
       "0         1.000        0.802            1.000           0.798  \n",
       "1         0.989        0.822            0.996           0.855  \n",
       "2         0.877        0.872            0.860           0.855  \n",
       "3         1.000        0.867            1.000           0.850  \n",
       "4         0.873        0.865            0.858           0.848  \n",
       "5         0.889        0.876            0.867           0.848  \n",
       "6         0.948        0.862            0.936           0.851  "
      ]
     },
     "execution_count": 21,
     "metadata": {},
     "output_type": "execute_result"
    }
   ],
   "source": [
    "comparison_frame = pd.DataFrame(\n",
    "    {\n",
    "        \"Model\": model_names,\n",
    "        \"Train_Accuracy\": acc_train,\n",
    "        \"Test_Accuracy\": acc_test,\n",
    "        \"Train_Recall\": recall_train,\n",
    "        \"Test_Recall\": recall_test,\n",
    "        \"Train_Precision\": precision_train,\n",
    "        \"Test_Precision\": precision_test,\n",
    "    }\n",
    ")\n",
    "#comparison_frame.sort_values(by='Test_Accuracy')\n",
    "comparison_frame"
   ]
  },
  {
   "cell_type": "code",
   "execution_count": 22,
   "id": "1ef9e60d",
   "metadata": {},
   "outputs": [
    {
     "data": {
      "text/html": [
       "<div>\n",
       "<style scoped>\n",
       "    .dataframe tbody tr th:only-of-type {\n",
       "        vertical-align: middle;\n",
       "    }\n",
       "\n",
       "    .dataframe tbody tr th {\n",
       "        vertical-align: top;\n",
       "    }\n",
       "\n",
       "    .dataframe thead th {\n",
       "        text-align: right;\n",
       "    }\n",
       "</style>\n",
       "<table border=\"1\" class=\"dataframe\">\n",
       "  <thead>\n",
       "    <tr style=\"text-align: right;\">\n",
       "      <th></th>\n",
       "      <th>Model</th>\n",
       "      <th>Train_Accuracy</th>\n",
       "      <th>Test_Accuracy</th>\n",
       "      <th>Train_Recall</th>\n",
       "      <th>Test_Recall</th>\n",
       "      <th>Train_Precision</th>\n",
       "      <th>Test_Precision</th>\n",
       "    </tr>\n",
       "  </thead>\n",
       "  <tbody>\n",
       "    <tr>\n",
       "      <th>0</th>\n",
       "      <td>Logistic Regression Classifier</td>\n",
       "      <td>0.843</td>\n",
       "      <td>0.838</td>\n",
       "      <td>0.877</td>\n",
       "      <td>0.872</td>\n",
       "      <td>0.860</td>\n",
       "      <td>0.855</td>\n",
       "    </tr>\n",
       "    <tr>\n",
       "      <th>1</th>\n",
       "      <td>Gradient Boosting Classifier</td>\n",
       "      <td>0.854</td>\n",
       "      <td>0.835</td>\n",
       "      <td>0.889</td>\n",
       "      <td>0.876</td>\n",
       "      <td>0.867</td>\n",
       "      <td>0.848</td>\n",
       "    </tr>\n",
       "    <tr>\n",
       "      <th>2</th>\n",
       "      <td>Random Forest Classifier</td>\n",
       "      <td>1.000</td>\n",
       "      <td>0.831</td>\n",
       "      <td>1.000</td>\n",
       "      <td>0.867</td>\n",
       "      <td>1.000</td>\n",
       "      <td>0.850</td>\n",
       "    </tr>\n",
       "    <tr>\n",
       "      <th>3</th>\n",
       "      <td>Extreme Gradient Boosting Classifier</td>\n",
       "      <td>0.931</td>\n",
       "      <td>0.830</td>\n",
       "      <td>0.948</td>\n",
       "      <td>0.862</td>\n",
       "      <td>0.936</td>\n",
       "      <td>0.851</td>\n",
       "    </tr>\n",
       "    <tr>\n",
       "      <th>4</th>\n",
       "      <td>AdaBoost Classifier</td>\n",
       "      <td>0.840</td>\n",
       "      <td>0.829</td>\n",
       "      <td>0.873</td>\n",
       "      <td>0.865</td>\n",
       "      <td>0.858</td>\n",
       "      <td>0.848</td>\n",
       "    </tr>\n",
       "    <tr>\n",
       "      <th>5</th>\n",
       "      <td>Bagging Classifier</td>\n",
       "      <td>0.991</td>\n",
       "      <td>0.812</td>\n",
       "      <td>0.989</td>\n",
       "      <td>0.822</td>\n",
       "      <td>0.996</td>\n",
       "      <td>0.855</td>\n",
       "    </tr>\n",
       "    <tr>\n",
       "      <th>6</th>\n",
       "      <td>Decision Tree Classifier</td>\n",
       "      <td>1.000</td>\n",
       "      <td>0.763</td>\n",
       "      <td>1.000</td>\n",
       "      <td>0.802</td>\n",
       "      <td>1.000</td>\n",
       "      <td>0.798</td>\n",
       "    </tr>\n",
       "  </tbody>\n",
       "</table>\n",
       "</div>"
      ],
      "text/plain": [
       "                                  Model  Train_Accuracy  Test_Accuracy  \\\n",
       "0        Logistic Regression Classifier           0.843          0.838   \n",
       "1          Gradient Boosting Classifier           0.854          0.835   \n",
       "2              Random Forest Classifier           1.000          0.831   \n",
       "3  Extreme Gradient Boosting Classifier           0.931          0.830   \n",
       "4                   AdaBoost Classifier           0.840          0.829   \n",
       "5                    Bagging Classifier           0.991          0.812   \n",
       "6              Decision Tree Classifier           1.000          0.763   \n",
       "\n",
       "   Train_Recall  Test_Recall  Train_Precision  Test_Precision  \n",
       "0         0.877        0.872            0.860           0.855  \n",
       "1         0.889        0.876            0.867           0.848  \n",
       "2         1.000        0.867            1.000           0.850  \n",
       "3         0.948        0.862            0.936           0.851  \n",
       "4         0.873        0.865            0.858           0.848  \n",
       "5         0.989        0.822            0.996           0.855  \n",
       "6         1.000        0.802            1.000           0.798  "
      ]
     },
     "execution_count": 22,
     "metadata": {},
     "output_type": "execute_result"
    }
   ],
   "source": [
    "comparison_frame.sort_values(by=['Test_Accuracy'], inplace=True, ascending=False)\n",
    "comparison_frame.reset_index(inplace=True,drop=True)\n",
    "#comparison_frame.drop('index')\n",
    "comparison_frame"
   ]
  },
  {
   "cell_type": "code",
   "execution_count": 23,
   "id": "e301bca0",
   "metadata": {},
   "outputs": [
    {
     "name": "stdout",
     "output_type": "stream",
     "text": [
      "Best model is the Logistic Regression Classifier model\n",
      "Second best model is the Gradient Boosting Classifier model\n",
      "Third best model is the Random Forest Classifier model\n"
     ]
    }
   ],
   "source": [
    "top_name = comparison_frame['Model'][0]\n",
    "second_best = comparison_frame['Model'][1]\n",
    "third_best = comparison_frame['Model'][2]\n",
    "print(f\"Best model is the {top_name} model\\n\"\n",
    "     f\"Second best model is the {second_best} model\\n\"\n",
    "     f\"Third best model is the {third_best} model\")"
   ]
  },
  {
   "cell_type": "markdown",
   "id": "7ea3b8b8",
   "metadata": {},
   "source": [
    "### Hyperparameter Tuning"
   ]
  },
  {
   "cell_type": "markdown",
   "id": "a5f1058f",
   "metadata": {},
   "source": [
    "#### To my teammates:\n",
    "Gridsearch is a tool used to bruteforce search a matrix of hyperparameters for a model. The model will be optimized to the training set so overfitting is a risk. However, in my experience a tuned model is very powerful so we'll see how effective this is."
   ]
  },
  {
   "cell_type": "code",
   "execution_count": 24,
   "id": "df6ace8e",
   "metadata": {},
   "outputs": [],
   "source": [
    "# # Creating pipeline\n",
    "# pipe = make_pipeline(StandardScaler(), DecisionTreeClassifier(random_state=1))\n",
    "\n",
    "# # Parameter grid to pass in GridSearchCV\n",
    "\n",
    "# param_grid = {'decisiontreeclassifier__max_depth': np.arange(2,30), \n",
    "#               'decisiontreeclassifier__min_samples_leaf': [1, 2, 5, 7, 10],\n",
    "#               'decisiontreeclassifier__max_leaf_nodes' : [2, 3, 5, 10,15],\n",
    "#               'decisiontreeclassifier__min_impurity_decrease': [0.0001,0.001,0.01,0.1]\n",
    "#              }\n",
    "\n",
    "# # Type of scoring used to compare parameter combinations\n",
    "# scorer = metrics.make_scorer(metrics.accuracy_score)\n",
    "\n",
    "# # Calling GridSearchCV\n",
    "# grid_cv = GridSearchCV(estimator=pipe, param_grid=param_grid, scoring=scorer, cv=5, n_jobs = -1)\n",
    "\n",
    "# # Fitting parameters in GridSeachCV\n",
    "# grid_cv.fit(X_train_scaled, y_train)\n",
    "\n",
    "# print(\n",
    "#     \"Best Parameters:{} \\nScore: {}\".format(grid_cv.best_params_, grid_cv.best_score_)\n",
    "# )"
   ]
  },
  {
   "cell_type": "code",
   "execution_count": 25,
   "id": "193009bf",
   "metadata": {},
   "outputs": [
    {
     "name": "stdout",
     "output_type": "stream",
     "text": [
      "Model creation, fitting, and assesment of the Tuned Decision Tree Classifier model:\n",
      "Model build and fitted :)\n",
      "--------------------------------------------------\n",
      "Accuracy on training set :  0.7971149854711499\n",
      "Accuracy on test set :  0.7898832684824902\n",
      "Recall on training set :  0.8684673587893718\n",
      "Recall on test set :  0.8677751385589866\n",
      "Precision on training set :  0.8034348038417711\n",
      "Precision on test set :  0.794778825235678\n",
      "--------------------------------------------------\n"
     ]
    },
    {
     "data": {
      "image/png": "[encoded data removed]",
      "text/plain": [
       "<Figure size 720x504 with 2 Axes>"
      ]
     },
     "metadata": {
      "needs_background": "light"
     },
     "output_type": "display_data"
    }
   ],
   "source": [
    "class tuned_decision_tree:\n",
    "    name = \"Tuned Decision Tree Classifier\"\n",
    "tuned_decision_tree.model = make_pipeline(\n",
    "    StandardScaler(),\n",
    "    DecisionTreeClassifier(\n",
    "        max_depth=6,\n",
    "        max_leaf_nodes=15,\n",
    "        random_state=1,\n",
    "        min_impurity_decrease=0.0001,\n",
    "        min_samples_leaf=1\n",
    "    ),\n",
    ")\n",
    "class_list.append(tuned_decision_tree)\n",
    "Everything_Everywhere_All_At_Once(tuned_decision_tree,X_train_scaled,y_train,X_test_scaled,y_test)"
   ]
  },
  {
   "cell_type": "code",
   "execution_count": 26,
   "id": "9fc7a152",
   "metadata": {},
   "outputs": [],
   "source": [
    "# # Creating pipeline\n",
    "# pipe = make_pipeline(StandardScaler(), BaggingClassifier(random_state=1))\n",
    "\n",
    "# # Parameter grid to pass in GridSearchCV\n",
    "\n",
    "# param_grid = {\n",
    "#               'baggingclassifier__max_samples': [0.7,0.8,0.9,1], \n",
    "#               'baggingclassifier__max_features': [0.7,0.8,0.9,1],\n",
    "#               'baggingclassifier__n_estimators' : [10,20,30,40,50],\n",
    "#              }\n",
    "\n",
    "# # Type of scoring used to compare parameter combinations\n",
    "# scorer = metrics.make_scorer(metrics.accuracy_score)\n",
    "\n",
    "# # Calling GridSearchCV\n",
    "# grid_cv = GridSearchCV(estimator=pipe, param_grid=param_grid, scoring=scorer, cv=5, n_jobs = -1)\n",
    "\n",
    "# # Fitting parameters in GridSeachCV\n",
    "# grid_cv.fit(X_train_scaled, y_train)\n",
    "\n",
    "# print(\n",
    "#     \"Best Parameters:{} \\nScore: {}\".format(grid_cv.best_params_, grid_cv.best_score_)\n",
    "# )"
   ]
  },
  {
   "cell_type": "code",
   "execution_count": 27,
   "id": "5a338fb5",
   "metadata": {},
   "outputs": [
    {
     "name": "stdout",
     "output_type": "stream",
     "text": [
      "Model creation, fitting, and assesment of the Tuned Bagging Classifier model:\n",
      "Model build and fitted :)\n",
      "--------------------------------------------------\n",
      "Accuracy on training set :  0.9993773349937733\n",
      "Accuracy on test set :  0.8300389105058366\n",
      "Recall on training set :  0.9996480732007742\n",
      "Recall on test set :  0.8611770915808921\n",
      "Precision on training set :  0.9992963940193491\n",
      "Precision on test set :  0.8521807260381301\n",
      "--------------------------------------------------\n"
     ]
    },
    {
     "data": {
      "image/png": "[encoded data removed]",
      "text/plain": [
       "<Figure size 720x504 with 2 Axes>"
      ]
     },
     "metadata": {
      "needs_background": "light"
     },
     "output_type": "display_data"
    }
   ],
   "source": [
    "class tuned_bagging:\n",
    "    name = \"Tuned Bagging Classifier\"\n",
    "tuned_bagging.model = make_pipeline(\n",
    "    StandardScaler(),\n",
    "    BaggingClassifier(\n",
    "        max_features=0.8,\n",
    "        max_samples=0.9,\n",
    "        random_state=1,\n",
    "        n_estimators=50,\n",
    "    ),\n",
    ")\n",
    "class_list.append(tuned_bagging)\n",
    "Everything_Everywhere_All_At_Once(tuned_bagging,X_train_scaled,y_train,X_test_scaled,y_test)"
   ]
  },
  {
   "cell_type": "code",
   "execution_count": 28,
   "id": "168c10d8",
   "metadata": {},
   "outputs": [],
   "source": [
    "class tuned_randiforestclass:\n",
    "    name = \"Tuned Random Forest Classifier\"\n",
    "# # Creating pipeline\n",
    "# pipe = make_pipeline(StandardScaler(), RandomForestClassifier(random_state=1))\n",
    "\n",
    "# # Parameter grid to pass in GridSearchCV\n",
    "\n",
    "# param_grid = {\n",
    "#     \"randomforestclassifier__n_estimators\": [100,150,250],\n",
    "#     \"randomforestclassifier__min_samples_leaf\": np.arange(1, 6),\n",
    "#     \"randomforestclassifier__max_features\": [np.arange(0.3, 0.6, 0.1),'sqrt','log2'],\n",
    "#     \"randomforestclassifier__max_samples\": np.arange(0.2, 0.6, 0.1),\n",
    "# }\n",
    "\n",
    "# # Type of scoring used to compare parameter combinations\n",
    "# scorer = metrics.make_scorer(metrics.accuracy_score)\n",
    "\n",
    "# # Calling GridSearchCV\n",
    "# grid_cv = GridSearchCV(estimator=pipe, param_grid=param_grid, scoring=scorer, cv=5, n_jobs = -1)\n",
    "\n",
    "# # Fitting parameters in GridSeachCV\n",
    "# grid_cv.fit(X_train_scaled, y_train)\n",
    "\n",
    "# print(\n",
    "#     \"Best Parameters:{} \\nScore: {}\".format(grid_cv.best_params_, grid_cv.best_score_)\n",
    "# )"
   ]
  },
  {
   "cell_type": "code",
   "execution_count": 29,
   "id": "2872845a",
   "metadata": {},
   "outputs": [
    {
     "name": "stdout",
     "output_type": "stream",
     "text": [
      "Model creation, fitting, and assesment of the Tuned Random Forest Classifier model:\n",
      "Model build and fitted :)\n",
      "--------------------------------------------------\n",
      "Accuracy on training set :  0.8981423827314239\n",
      "Accuracy on test set :  0.8298832684824903\n",
      "Recall on training set :  0.9252155551645258\n",
      "Recall on test set :  0.8738453417788334\n",
      "Precision on training set :  0.9042909966463153\n",
      "Precision on test set :  0.8433520122261844\n",
      "--------------------------------------------------\n"
     ]
    },
    {
     "data": {
      "image/png": "[encoded data removed]",
      "text/plain": [
       "<Figure size 720x504 with 2 Axes>"
      ]
     },
     "metadata": {
      "needs_background": "light"
     },
     "output_type": "display_data"
    }
   ],
   "source": [
    "tuned_randiforestclass.model = make_pipeline(\n",
    "    StandardScaler(),\n",
    "    RandomForestClassifier(\n",
    "        n_estimators=100,\n",
    "        max_features='sqrt',\n",
    "        random_state=1,\n",
    "        max_samples=0.4,\n",
    "        min_samples_leaf=4\n",
    "    ),\n",
    ")\n",
    "class_list.append(tuned_randiforestclass)\n",
    "Everything_Everywhere_All_At_Once(tuned_randiforestclass,X_train_scaled,y_train,X_test_scaled,y_test)"
   ]
  },
  {
   "cell_type": "code",
   "execution_count": 30,
   "id": "cb9fbe71",
   "metadata": {},
   "outputs": [],
   "source": [
    "# # Creating pipeline\n",
    "# pipe = make_pipeline(StandardScaler(), AdaBoostClassifier(random_state=1))\n",
    "\n",
    "# # Parameter grid to pass in GridSearchCV\n",
    "# param_grid = {\n",
    "#     \"adaboostclassifier__n_estimators\": np.arange(10, 110, 10),\n",
    "#     \"adaboostclassifier__learning_rate\": [0.1, 0.01, 0.2, 0.05, 1],\n",
    "#     \"adaboostclassifier__base_estimator\": [\n",
    "#         DecisionTreeClassifier(max_depth=1, random_state=1),\n",
    "#         DecisionTreeClassifier(max_depth=2, random_state=1),\n",
    "#         DecisionTreeClassifier(max_depth=3, random_state=1),\n",
    "#     ],\n",
    "# }\n",
    "\n",
    "# # Type of scoring used to compare parameter combinations\n",
    "# scorer = metrics.make_scorer(metrics.accuracy_score)\n",
    "\n",
    "# # Calling GridSearchCV\n",
    "# grid_cv = GridSearchCV(estimator=pipe, param_grid=param_grid, scoring=scorer, cv=5, n_jobs = -1)\n",
    "\n",
    "# # Fitting parameters in GridSeachCV\n",
    "# grid_cv.fit(X_train_scaled, y_train)\n",
    "\n",
    "# print(\n",
    "#     \"Best Parameters:{} \\nScore: {}\".format(grid_cv.best_params_, grid_cv.best_score_)\n",
    "# )"
   ]
  },
  {
   "cell_type": "code",
   "execution_count": 31,
   "id": "e6417e16",
   "metadata": {},
   "outputs": [
    {
     "name": "stdout",
     "output_type": "stream",
     "text": [
      "Model creation, fitting, and assesment of the Tuned AdaBoost Classifier model:\n",
      "Model build and fitted :)\n",
      "--------------------------------------------------\n",
      "Accuracy on training set :  0.8494707347447074\n",
      "Accuracy on test set :  0.8367315175097276\n",
      "Recall on training set :  0.8838641562554989\n",
      "Recall on test set :  0.8727896542623383\n",
      "Precision on training set :  0.8640233938247184\n",
      "Precision on test set :  0.8536396489416623\n",
      "--------------------------------------------------\n"
     ]
    },
    {
     "data": {
      "image/png": "[encoded data removed]",
      "text/plain": [
       "<Figure size 720x504 with 2 Axes>"
      ]
     },
     "metadata": {
      "needs_background": "light"
     },
     "output_type": "display_data"
    }
   ],
   "source": [
    "class tuned_adaboost:\n",
    "    name = \"Tuned AdaBoost Classifier\"\n",
    "tuned_adaboost.model = make_pipeline(\n",
    "    StandardScaler(),\n",
    "    AdaBoostClassifier(\n",
    "        base_estimator=DecisionTreeClassifier(max_depth=2, random_state=1),\n",
    "        n_estimators=100,\n",
    "        learning_rate=0.2,\n",
    "        random_state=1,\n",
    "    ),\n",
    ")\n",
    "class_list.append(tuned_adaboost)\n",
    "Everything_Everywhere_All_At_Once(tuned_adaboost,X_train_scaled,y_train,X_test_scaled,y_test)"
   ]
  },
  {
   "cell_type": "code",
   "execution_count": 32,
   "id": "4f60188e",
   "metadata": {},
   "outputs": [],
   "source": [
    "# # Creating pipeline\n",
    "# pipe = make_pipeline(StandardScaler(), GradientBoostingClassifier(random_state=1))\n",
    "\n",
    "# # Parameter grid to pass in GridSearchCV\n",
    "# param_grid = {\n",
    "#     \"gradientboostingclassifier__init\": [AdaBoostClassifier(random_state=1),DecisionTreeClassifier(random_state=1)],\n",
    "#     \"gradientboostingclassifier__n_estimators\": np.arange(75,150,25),\n",
    "#     \"gradientboostingclassifier__learning_rate\": [0.1, 0.01, 0.2, 0.05, 1],\n",
    "#     \"gradientboostingclassifier__subsample\":[0.5,0.7,1],\n",
    "#     \"gradientboostingclassifier__max_features\":[0.5,0.7,1],\n",
    "# }\n",
    "\n",
    "# # Type of scoring used to compare parameter combinations\n",
    "# scorer = metrics.make_scorer(metrics.accuracy_score)\n",
    "\n",
    "# # Calling GridSearchCV\n",
    "# grid_cv = GridSearchCV(estimator=pipe, param_grid=param_grid, scoring=scorer, cv=5, n_jobs = -1)\n",
    "\n",
    "# # Fitting parameters in GridSeachCV\n",
    "# grid_cv.fit(X_train_scaled, y_train)\n",
    "\n",
    "# print(\n",
    "#     \"Best Parameters:{} \\nScore: {}\".format(grid_cv.best_params_, grid_cv.best_score_)\n",
    "# )"
   ]
  },
  {
   "cell_type": "code",
   "execution_count": 33,
   "id": "110198ec",
   "metadata": {},
   "outputs": [
    {
     "name": "stdout",
     "output_type": "stream",
     "text": [
      "Model creation, fitting, and assesment of the Tuned Gradient Boosting Classifier model:\n",
      "Model build and fitted :)\n",
      "--------------------------------------------------\n",
      "Accuracy on training set :  0.8632212536322126\n",
      "Accuracy on test set :  0.8336186770428016\n",
      "Recall on training set :  0.893894070033433\n",
      "Recall on test set :  0.8712061229875957\n",
      "Precision on training set :  0.8766177739430544\n",
      "Precision on test set :  0.8503348789283874\n",
      "--------------------------------------------------\n"
     ]
    },
    {
     "data": {
      "image/png": "[encoded data removed]",
      "text/plain": [
       "<Figure size 720x504 with 2 Axes>"
      ]
     },
     "metadata": {
      "needs_background": "light"
     },
     "output_type": "display_data"
    }
   ],
   "source": [
    "class tuned_gradientboost:\n",
    "    name = \"Tuned Gradient Boosting Classifier\"\n",
    "tuned_gradientboost.model = make_pipeline(\n",
    "    StandardScaler(),\n",
    "    GradientBoostingClassifier(\n",
    "        init=AdaBoostClassifier(random_state=1),\n",
    "        learning_rate=0.2,\n",
    "        max_features=0.7,\n",
    "        n_estimators=125,\n",
    "        subsample=1,\n",
    "        random_state=1,\n",
    "    ),\n",
    ")\n",
    "class_list.append(tuned_gradientboost)\n",
    "Everything_Everywhere_All_At_Once(tuned_gradientboost,X_train_scaled,y_train,X_test_scaled,y_test)"
   ]
  },
  {
   "cell_type": "code",
   "execution_count": 34,
   "id": "9505ced6",
   "metadata": {},
   "outputs": [],
   "source": [
    "# #Creating pipeline\n",
    "# pipe=make_pipeline(StandardScaler(), XGBClassifier(random_state=1,eval_metric='logloss'))\n",
    "\n",
    "# #Parameter grid to pass in GridSearchCV\n",
    "# param_grid={'xgbclassifier__n_estimators':np.arange(50,300,50),'xgbclassifier__scale_pos_weight':[0,1,2,5,10],\n",
    "#             'xgbclassifier__learning_rate':[0.01,0.1,0.2,0.05], 'xgbclassifier__gamma':[0,1,3,5],\n",
    "#             'xgbclassifier__subsample':[0.7,0.8,0.9,1]}\n",
    "\n",
    "# # Type of scoring used to compare parameter combinations\n",
    "# scorer = metrics.make_scorer(metrics.accuracy_score)\n",
    "\n",
    "# # Calling GridSearchCV\n",
    "# grid_cv = GridSearchCV(estimator=pipe, param_grid=param_grid, scoring=scorer, cv=5, n_jobs = -1)\n",
    "\n",
    "# # Fitting parameters in GridSeachCV\n",
    "# grid_cv.fit(X_train_scaled, y_train)\n",
    "\n",
    "# print(\n",
    "#     \"Best Parameters:{} \\nScore: {}\".format(grid_cv.best_params_, grid_cv.best_score_)\n",
    "# )"
   ]
  },
  {
   "cell_type": "code",
   "execution_count": 35,
   "id": "010d5e28",
   "metadata": {},
   "outputs": [
    {
     "name": "stdout",
     "output_type": "stream",
     "text": [
      "Model creation, fitting, and assesment of the Tuned Extreme Gradient Boosting Classifier model:\n",
      "Model build and fitted :)\n",
      "--------------------------------------------------\n",
      "Accuracy on training set :  0.8769198837691988\n",
      "Accuracy on test set :  0.8371984435797666\n",
      "Recall on training set :  0.9038360021115608\n",
      "Recall on test set :  0.8683029823172341\n",
      "Precision on training set :  0.8892832409972299\n",
      "Precision on test set :  0.8574407088871514\n",
      "--------------------------------------------------\n"
     ]
    },
    {
     "data": {
      "image/png": "[encoded data removed]",
      "text/plain": [
       "<Figure size 720x504 with 2 Axes>"
      ]
     },
     "metadata": {
      "needs_background": "light"
     },
     "output_type": "display_data"
    }
   ],
   "source": [
    "class tuned_xgboost:\n",
    "    name = \"Tuned Extreme Gradient Boosting Classifier\"\n",
    "tuned_xgboost.model = make_pipeline(\n",
    "    StandardScaler(),\n",
    "    XGBClassifier(\n",
    "        random_state=1,\n",
    "        n_estimators=200,\n",
    "        scale_pos_weight=1,\n",
    "        subsample=0.7,\n",
    "        learning_rate=0.05,\n",
    "        gamma=5,\n",
    "        eval_metric='logloss',\n",
    "    ),\n",
    ")\n",
    "class_list.append(tuned_xgboost)\n",
    "Everything_Everywhere_All_At_Once(tuned_xgboost,X_train_scaled,y_train,X_test_scaled,y_test)"
   ]
  },
  {
   "cell_type": "code",
   "execution_count": 36,
   "id": "234744df",
   "metadata": {},
   "outputs": [],
   "source": [
    "model_names = []\n",
    "acc_train = []\n",
    "acc_test = []\n",
    "recall_train = []\n",
    "recall_test = []\n",
    "precision_train = []\n",
    "precision_test = []\n",
    "for model_class in class_list:\n",
    "    model_names.append(model_class.name)\n",
    "    acc_train.append(model_class.scores[0])\n",
    "    acc_test.append(model_class.scores[1])\n",
    "    recall_train.append(model_class.scores[2])\n",
    "    recall_test.append(model_class.scores[3])\n",
    "    precision_train.append(model_class.scores[4])\n",
    "    precision_test.append(model_class.scores[5])"
   ]
  },
  {
   "cell_type": "code",
   "execution_count": 37,
   "id": "84a8c0f5",
   "metadata": {},
   "outputs": [
    {
     "data": {
      "text/html": [
       "<div>\n",
       "<style scoped>\n",
       "    .dataframe tbody tr th:only-of-type {\n",
       "        vertical-align: middle;\n",
       "    }\n",
       "\n",
       "    .dataframe tbody tr th {\n",
       "        vertical-align: top;\n",
       "    }\n",
       "\n",
       "    .dataframe thead th {\n",
       "        text-align: right;\n",
       "    }\n",
       "</style>\n",
       "<table border=\"1\" class=\"dataframe\">\n",
       "  <thead>\n",
       "    <tr style=\"text-align: right;\">\n",
       "      <th></th>\n",
       "      <th>Model</th>\n",
       "      <th>Train_Accuracy</th>\n",
       "      <th>Test_Accuracy</th>\n",
       "      <th>Train_Recall</th>\n",
       "      <th>Test_Recall</th>\n",
       "      <th>Train_Precision</th>\n",
       "      <th>Test_Precision</th>\n",
       "    </tr>\n",
       "  </thead>\n",
       "  <tbody>\n",
       "    <tr>\n",
       "      <th>0</th>\n",
       "      <td>Decision Tree Classifier</td>\n",
       "      <td>1.000</td>\n",
       "      <td>0.763</td>\n",
       "      <td>1.000</td>\n",
       "      <td>0.802</td>\n",
       "      <td>1.000</td>\n",
       "      <td>0.798</td>\n",
       "    </tr>\n",
       "    <tr>\n",
       "      <th>1</th>\n",
       "      <td>Bagging Classifier</td>\n",
       "      <td>0.991</td>\n",
       "      <td>0.812</td>\n",
       "      <td>0.989</td>\n",
       "      <td>0.822</td>\n",
       "      <td>0.996</td>\n",
       "      <td>0.855</td>\n",
       "    </tr>\n",
       "    <tr>\n",
       "      <th>2</th>\n",
       "      <td>Logistic Regression Classifier</td>\n",
       "      <td>0.843</td>\n",
       "      <td>0.838</td>\n",
       "      <td>0.877</td>\n",
       "      <td>0.872</td>\n",
       "      <td>0.860</td>\n",
       "      <td>0.855</td>\n",
       "    </tr>\n",
       "    <tr>\n",
       "      <th>3</th>\n",
       "      <td>Random Forest Classifier</td>\n",
       "      <td>1.000</td>\n",
       "      <td>0.831</td>\n",
       "      <td>1.000</td>\n",
       "      <td>0.867</td>\n",
       "      <td>1.000</td>\n",
       "      <td>0.850</td>\n",
       "    </tr>\n",
       "    <tr>\n",
       "      <th>4</th>\n",
       "      <td>AdaBoost Classifier</td>\n",
       "      <td>0.840</td>\n",
       "      <td>0.829</td>\n",
       "      <td>0.873</td>\n",
       "      <td>0.865</td>\n",
       "      <td>0.858</td>\n",
       "      <td>0.848</td>\n",
       "    </tr>\n",
       "    <tr>\n",
       "      <th>5</th>\n",
       "      <td>Gradient Boosting Classifier</td>\n",
       "      <td>0.854</td>\n",
       "      <td>0.835</td>\n",
       "      <td>0.889</td>\n",
       "      <td>0.876</td>\n",
       "      <td>0.867</td>\n",
       "      <td>0.848</td>\n",
       "    </tr>\n",
       "    <tr>\n",
       "      <th>6</th>\n",
       "      <td>Extreme Gradient Boosting Classifier</td>\n",
       "      <td>0.931</td>\n",
       "      <td>0.830</td>\n",
       "      <td>0.948</td>\n",
       "      <td>0.862</td>\n",
       "      <td>0.936</td>\n",
       "      <td>0.851</td>\n",
       "    </tr>\n",
       "    <tr>\n",
       "      <th>7</th>\n",
       "      <td>Tuned Decision Tree Classifier</td>\n",
       "      <td>0.797</td>\n",
       "      <td>0.790</td>\n",
       "      <td>0.868</td>\n",
       "      <td>0.868</td>\n",
       "      <td>0.803</td>\n",
       "      <td>0.795</td>\n",
       "    </tr>\n",
       "    <tr>\n",
       "      <th>8</th>\n",
       "      <td>Tuned Bagging Classifier</td>\n",
       "      <td>0.999</td>\n",
       "      <td>0.830</td>\n",
       "      <td>1.000</td>\n",
       "      <td>0.861</td>\n",
       "      <td>0.999</td>\n",
       "      <td>0.852</td>\n",
       "    </tr>\n",
       "    <tr>\n",
       "      <th>9</th>\n",
       "      <td>Tuned Random Forest Classifier</td>\n",
       "      <td>0.898</td>\n",
       "      <td>0.830</td>\n",
       "      <td>0.925</td>\n",
       "      <td>0.874</td>\n",
       "      <td>0.904</td>\n",
       "      <td>0.843</td>\n",
       "    </tr>\n",
       "    <tr>\n",
       "      <th>10</th>\n",
       "      <td>Tuned AdaBoost Classifier</td>\n",
       "      <td>0.849</td>\n",
       "      <td>0.837</td>\n",
       "      <td>0.884</td>\n",
       "      <td>0.873</td>\n",
       "      <td>0.864</td>\n",
       "      <td>0.854</td>\n",
       "    </tr>\n",
       "    <tr>\n",
       "      <th>11</th>\n",
       "      <td>Tuned Gradient Boosting Classifier</td>\n",
       "      <td>0.863</td>\n",
       "      <td>0.834</td>\n",
       "      <td>0.894</td>\n",
       "      <td>0.871</td>\n",
       "      <td>0.877</td>\n",
       "      <td>0.850</td>\n",
       "    </tr>\n",
       "    <tr>\n",
       "      <th>12</th>\n",
       "      <td>Tuned Extreme Gradient Boosting Classifier</td>\n",
       "      <td>0.877</td>\n",
       "      <td>0.837</td>\n",
       "      <td>0.904</td>\n",
       "      <td>0.868</td>\n",
       "      <td>0.889</td>\n",
       "      <td>0.857</td>\n",
       "    </tr>\n",
       "  </tbody>\n",
       "</table>\n",
       "</div>"
      ],
      "text/plain": [
       "                                         Model  Train_Accuracy  Test_Accuracy  \\\n",
       "0                     Decision Tree Classifier           1.000          0.763   \n",
       "1                           Bagging Classifier           0.991          0.812   \n",
       "2               Logistic Regression Classifier           0.843          0.838   \n",
       "3                     Random Forest Classifier           1.000          0.831   \n",
       "4                          AdaBoost Classifier           0.840          0.829   \n",
       "5                 Gradient Boosting Classifier           0.854          0.835   \n",
       "6         Extreme Gradient Boosting Classifier           0.931          0.830   \n",
       "7               Tuned Decision Tree Classifier           0.797          0.790   \n",
       "8                     Tuned Bagging Classifier           0.999          0.830   \n",
       "9               Tuned Random Forest Classifier           0.898          0.830   \n",
       "10                   Tuned AdaBoost Classifier           0.849          0.837   \n",
       "11          Tuned Gradient Boosting Classifier           0.863          0.834   \n",
       "12  Tuned Extreme Gradient Boosting Classifier           0.877          0.837   \n",
       "\n",
       "    Train_Recall  Test_Recall  Train_Precision  Test_Precision  \n",
       "0          1.000        0.802            1.000           0.798  \n",
       "1          0.989        0.822            0.996           0.855  \n",
       "2          0.877        0.872            0.860           0.855  \n",
       "3          1.000        0.867            1.000           0.850  \n",
       "4          0.873        0.865            0.858           0.848  \n",
       "5          0.889        0.876            0.867           0.848  \n",
       "6          0.948        0.862            0.936           0.851  \n",
       "7          0.868        0.868            0.803           0.795  \n",
       "8          1.000        0.861            0.999           0.852  \n",
       "9          0.925        0.874            0.904           0.843  \n",
       "10         0.884        0.873            0.864           0.854  \n",
       "11         0.894        0.871            0.877           0.850  \n",
       "12         0.904        0.868            0.889           0.857  "
      ]
     },
     "execution_count": 37,
     "metadata": {},
     "output_type": "execute_result"
    }
   ],
   "source": [
    "comparison_frame = pd.DataFrame(\n",
    "    {\n",
    "        \"Model\": model_names,\n",
    "        \"Train_Accuracy\": acc_train,\n",
    "        \"Test_Accuracy\": acc_test,\n",
    "        \"Train_Recall\": recall_train,\n",
    "        \"Test_Recall\": recall_test,\n",
    "        \"Train_Precision\": precision_train,\n",
    "        \"Test_Precision\": precision_test,\n",
    "    }\n",
    ")\n",
    "comparison_frame.sort_values(by='Test_Accuracy')\n",
    "comparison_frame"
   ]
  },
  {
   "cell_type": "code",
   "execution_count": 38,
   "id": "65eb353b",
   "metadata": {},
   "outputs": [
    {
     "data": {
      "text/html": [
       "<div>\n",
       "<style scoped>\n",
       "    .dataframe tbody tr th:only-of-type {\n",
       "        vertical-align: middle;\n",
       "    }\n",
       "\n",
       "    .dataframe tbody tr th {\n",
       "        vertical-align: top;\n",
       "    }\n",
       "\n",
       "    .dataframe thead th {\n",
       "        text-align: right;\n",
       "    }\n",
       "</style>\n",
       "<table border=\"1\" class=\"dataframe\">\n",
       "  <thead>\n",
       "    <tr style=\"text-align: right;\">\n",
       "      <th></th>\n",
       "      <th>Model</th>\n",
       "      <th>Train_Accuracy</th>\n",
       "      <th>Test_Accuracy</th>\n",
       "      <th>Train_Recall</th>\n",
       "      <th>Test_Recall</th>\n",
       "      <th>Train_Precision</th>\n",
       "      <th>Test_Precision</th>\n",
       "    </tr>\n",
       "  </thead>\n",
       "  <tbody>\n",
       "    <tr>\n",
       "      <th>0</th>\n",
       "      <td>Logistic Regression Classifier</td>\n",
       "      <td>0.843</td>\n",
       "      <td>0.838</td>\n",
       "      <td>0.877</td>\n",
       "      <td>0.872</td>\n",
       "      <td>0.860</td>\n",
       "      <td>0.855</td>\n",
       "    </tr>\n",
       "    <tr>\n",
       "      <th>1</th>\n",
       "      <td>Tuned Extreme Gradient Boosting Classifier</td>\n",
       "      <td>0.877</td>\n",
       "      <td>0.837</td>\n",
       "      <td>0.904</td>\n",
       "      <td>0.868</td>\n",
       "      <td>0.889</td>\n",
       "      <td>0.857</td>\n",
       "    </tr>\n",
       "    <tr>\n",
       "      <th>2</th>\n",
       "      <td>Tuned AdaBoost Classifier</td>\n",
       "      <td>0.849</td>\n",
       "      <td>0.837</td>\n",
       "      <td>0.884</td>\n",
       "      <td>0.873</td>\n",
       "      <td>0.864</td>\n",
       "      <td>0.854</td>\n",
       "    </tr>\n",
       "    <tr>\n",
       "      <th>3</th>\n",
       "      <td>Gradient Boosting Classifier</td>\n",
       "      <td>0.854</td>\n",
       "      <td>0.835</td>\n",
       "      <td>0.889</td>\n",
       "      <td>0.876</td>\n",
       "      <td>0.867</td>\n",
       "      <td>0.848</td>\n",
       "    </tr>\n",
       "    <tr>\n",
       "      <th>4</th>\n",
       "      <td>Tuned Gradient Boosting Classifier</td>\n",
       "      <td>0.863</td>\n",
       "      <td>0.834</td>\n",
       "      <td>0.894</td>\n",
       "      <td>0.871</td>\n",
       "      <td>0.877</td>\n",
       "      <td>0.850</td>\n",
       "    </tr>\n",
       "    <tr>\n",
       "      <th>5</th>\n",
       "      <td>Random Forest Classifier</td>\n",
       "      <td>1.000</td>\n",
       "      <td>0.831</td>\n",
       "      <td>1.000</td>\n",
       "      <td>0.867</td>\n",
       "      <td>1.000</td>\n",
       "      <td>0.850</td>\n",
       "    </tr>\n",
       "    <tr>\n",
       "      <th>6</th>\n",
       "      <td>Extreme Gradient Boosting Classifier</td>\n",
       "      <td>0.931</td>\n",
       "      <td>0.830</td>\n",
       "      <td>0.948</td>\n",
       "      <td>0.862</td>\n",
       "      <td>0.936</td>\n",
       "      <td>0.851</td>\n",
       "    </tr>\n",
       "    <tr>\n",
       "      <th>7</th>\n",
       "      <td>Tuned Bagging Classifier</td>\n",
       "      <td>0.999</td>\n",
       "      <td>0.830</td>\n",
       "      <td>1.000</td>\n",
       "      <td>0.861</td>\n",
       "      <td>0.999</td>\n",
       "      <td>0.852</td>\n",
       "    </tr>\n",
       "    <tr>\n",
       "      <th>8</th>\n",
       "      <td>Tuned Random Forest Classifier</td>\n",
       "      <td>0.898</td>\n",
       "      <td>0.830</td>\n",
       "      <td>0.925</td>\n",
       "      <td>0.874</td>\n",
       "      <td>0.904</td>\n",
       "      <td>0.843</td>\n",
       "    </tr>\n",
       "    <tr>\n",
       "      <th>9</th>\n",
       "      <td>AdaBoost Classifier</td>\n",
       "      <td>0.840</td>\n",
       "      <td>0.829</td>\n",
       "      <td>0.873</td>\n",
       "      <td>0.865</td>\n",
       "      <td>0.858</td>\n",
       "      <td>0.848</td>\n",
       "    </tr>\n",
       "    <tr>\n",
       "      <th>10</th>\n",
       "      <td>Bagging Classifier</td>\n",
       "      <td>0.991</td>\n",
       "      <td>0.812</td>\n",
       "      <td>0.989</td>\n",
       "      <td>0.822</td>\n",
       "      <td>0.996</td>\n",
       "      <td>0.855</td>\n",
       "    </tr>\n",
       "    <tr>\n",
       "      <th>11</th>\n",
       "      <td>Tuned Decision Tree Classifier</td>\n",
       "      <td>0.797</td>\n",
       "      <td>0.790</td>\n",
       "      <td>0.868</td>\n",
       "      <td>0.868</td>\n",
       "      <td>0.803</td>\n",
       "      <td>0.795</td>\n",
       "    </tr>\n",
       "    <tr>\n",
       "      <th>12</th>\n",
       "      <td>Decision Tree Classifier</td>\n",
       "      <td>1.000</td>\n",
       "      <td>0.763</td>\n",
       "      <td>1.000</td>\n",
       "      <td>0.802</td>\n",
       "      <td>1.000</td>\n",
       "      <td>0.798</td>\n",
       "    </tr>\n",
       "  </tbody>\n",
       "</table>\n",
       "</div>"
      ],
      "text/plain": [
       "                                         Model  Train_Accuracy  Test_Accuracy  \\\n",
       "0               Logistic Regression Classifier           0.843          0.838   \n",
       "1   Tuned Extreme Gradient Boosting Classifier           0.877          0.837   \n",
       "2                    Tuned AdaBoost Classifier           0.849          0.837   \n",
       "3                 Gradient Boosting Classifier           0.854          0.835   \n",
       "4           Tuned Gradient Boosting Classifier           0.863          0.834   \n",
       "5                     Random Forest Classifier           1.000          0.831   \n",
       "6         Extreme Gradient Boosting Classifier           0.931          0.830   \n",
       "7                     Tuned Bagging Classifier           0.999          0.830   \n",
       "8               Tuned Random Forest Classifier           0.898          0.830   \n",
       "9                          AdaBoost Classifier           0.840          0.829   \n",
       "10                          Bagging Classifier           0.991          0.812   \n",
       "11              Tuned Decision Tree Classifier           0.797          0.790   \n",
       "12                    Decision Tree Classifier           1.000          0.763   \n",
       "\n",
       "    Train_Recall  Test_Recall  Train_Precision  Test_Precision  \n",
       "0          0.877        0.872            0.860           0.855  \n",
       "1          0.904        0.868            0.889           0.857  \n",
       "2          0.884        0.873            0.864           0.854  \n",
       "3          0.889        0.876            0.867           0.848  \n",
       "4          0.894        0.871            0.877           0.850  \n",
       "5          1.000        0.867            1.000           0.850  \n",
       "6          0.948        0.862            0.936           0.851  \n",
       "7          1.000        0.861            0.999           0.852  \n",
       "8          0.925        0.874            0.904           0.843  \n",
       "9          0.873        0.865            0.858           0.848  \n",
       "10         0.989        0.822            0.996           0.855  \n",
       "11         0.868        0.868            0.803           0.795  \n",
       "12         1.000        0.802            1.000           0.798  "
      ]
     },
     "execution_count": 38,
     "metadata": {},
     "output_type": "execute_result"
    }
   ],
   "source": [
    "comparison_frame.sort_values(by=['Test_Accuracy'], inplace=True, ascending=False)\n",
    "comparison_frame.reset_index(inplace=True,drop=True)\n",
    "#comparison_frame.drop('index')\n",
    "comparison_frame"
   ]
  },
  {
   "cell_type": "code",
   "execution_count": 39,
   "id": "27bd2698",
   "metadata": {},
   "outputs": [
    {
     "name": "stdout",
     "output_type": "stream",
     "text": [
      "Best model is the Logistic Regression Classifier model\n",
      "Second best model is the Tuned Extreme Gradient Boosting Classifier model\n",
      "Third best model is the Tuned AdaBoost Classifier model\n"
     ]
    }
   ],
   "source": [
    "top_name = comparison_frame['Model'][0]\n",
    "second_best = comparison_frame['Model'][1]\n",
    "third_best = comparison_frame['Model'][2]\n",
    "print(f\"Best model is the {top_name} model\\n\"\n",
    "     f\"Second best model is the {second_best} model\\n\"\n",
    "     f\"Third best model is the {third_best} model\")"
   ]
  },
  {
   "cell_type": "code",
   "execution_count": 40,
   "id": "8c5aaf0a",
   "metadata": {},
   "outputs": [
    {
     "data": {
      "image/png": "[encoded data removed]",
      "text/plain": [
       "<Figure size 864x864 with 1 Axes>"
      ]
     },
     "metadata": {
      "needs_background": "light"
     },
     "output_type": "display_data"
    }
   ],
   "source": [
    "#example of feature importance.\n",
    "feature_names = X_train.columns\n",
    "importances = tuned_xgboost.model[1].feature_importances_\n",
    "indices = np.argsort(importances)\n",
    "\n",
    "plt.figure(figsize=(12, 12))\n",
    "plt.title(\"Feature Importances\")\n",
    "plt.barh(range(len(indices)), importances[indices], color=\"green\", align=\"center\")\n",
    "plt.yticks(range(len(indices)), [feature_names[i] for i in indices])\n",
    "plt.xlabel(\"Relative Importance\")\n",
    "plt.show()"
   ]
  },
  {
   "cell_type": "code",
   "execution_count": null,
   "id": "ecf6f1f7",
   "metadata": {},
   "outputs": [],
   "source": []
  }
 ],
 "metadata": {
  "kernelspec": {
   "display_name": "mlenv",
   "language": "python",
   "name": "mlenv"
  },
  "language_info": {
   "codemirror_mode": {
    "name": "ipython",
    "version": 3
   },
   "file_extension": ".py",
   "mimetype": "text/x-python",
   "name": "python",
   "nbconvert_exporter": "python",
   "pygments_lexer": "ipython3",
   "version": "3.7.11"
  }
 },
 "nbformat": 4,
 "nbformat_minor": 5
}
